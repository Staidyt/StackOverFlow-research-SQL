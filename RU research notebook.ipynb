{
 "cells": [
  {
   "cell_type": "markdown",
   "metadata": {
    "tags": []
   },
   "source": [
    "# Изучение информации из базы данных StackOverflow"
   ]
  },
  {
   "cell_type": "markdown",
   "metadata": {},
   "source": [
    "Вы будете работать с базой данных StackOverflow — сервиса вопросов и ответов о программировании. StackOverflow похож на социальную сеть — пользователи сервиса задают вопросы, отвечают на посты, оставляют комментарии и ставят оценки другим ответам.\n",
    "Вы будете работать с версией базы, где хранятся данные о постах за 2008 год, но в таблицах вы найдёте информацию и о более поздних оценках, которые эти посты получили. "
   ]
  },
  {
   "cell_type": "markdown",
   "metadata": {},
   "source": [
    "ER-диаграмма базы данных:\n",
    "\n",
    "![Текст с описанием картинки](ER.png)"
   ]
  },
  {
   "cell_type": "markdown",
   "metadata": {},
   "source": [
    "## Настройки рабочей тетради"
   ]
  },
  {
   "cell_type": "code",
   "execution_count": 1,
   "metadata": {
    "id": "nlZBlglMDWKe"
   },
   "outputs": [],
   "source": [
    "#Импорт библиотек\n",
    "\n",
    "import pandas as pd\n",
    "import matplotlib.pyplot as plt\n",
    "import seaborn as sns\n",
    "from sqlalchemy import create_engine "
   ]
  },
  {
   "cell_type": "markdown",
   "metadata": {
    "id": "XnOE3n28DWKg"
   },
   "source": [
    "### Конфигурация для подключения к базе данных\n"
   ]
  },
  {
   "cell_type": "markdown",
   "metadata": {
    "id": "2Rg8ZpS0DWKh"
   },
   "source": [
    "Создание подключения"
   ]
  },
  {
   "cell_type": "code",
   "execution_count": 3,
   "metadata": {
    "id": "DamCUTR6DWKi"
   },
   "outputs": [],
   "source": [
    "engine = create_engine(connection_string) "
   ]
  },
  {
   "cell_type": "markdown",
   "metadata": {
    "id": "gnBMXkDBDWKm"
   },
   "source": [
    "# Задание 1 ✔"
   ]
  },
  {
   "cell_type": "markdown",
   "metadata": {
    "id": "vHsfOrrNDWKn"
   },
   "source": [
    "Выведите общую сумму просмотров постов за каждый месяц 2008 года. Если данных за какой-либо месяц в базе нет, такой месяц можно пропустить. Результат отсортируйте по убыванию общего количества просмотров."
   ]
  },
  {
   "cell_type": "markdown",
   "metadata": {
    "id": "N5rTgGNmDWKn"
   },
   "source": [
    "| month_date  | total_views |\n",
    "| ------------- | ------------- |\n",
    "| 2008-09-01  | 452928568  |\n",
    "| 2008-10-01  | 365400138  |\n",
    "| ...         | ... |"
   ]
  },
  {
   "cell_type": "code",
   "execution_count": 4,
   "metadata": {
    "id": "eWvykcXTDWKo"
   },
   "outputs": [
    {
     "data": {
      "text/html": [
       "<div>\n",
       "<style scoped>\n",
       "    .dataframe tbody tr th:only-of-type {\n",
       "        vertical-align: middle;\n",
       "    }\n",
       "\n",
       "    .dataframe tbody tr th {\n",
       "        vertical-align: top;\n",
       "    }\n",
       "\n",
       "    .dataframe thead th {\n",
       "        text-align: right;\n",
       "    }\n",
       "</style>\n",
       "<table border=\"1\" class=\"dataframe\">\n",
       "  <thead>\n",
       "    <tr style=\"text-align: right;\">\n",
       "      <th></th>\n",
       "      <th>month_date</th>\n",
       "      <th>total_views</th>\n",
       "    </tr>\n",
       "  </thead>\n",
       "  <tbody>\n",
       "    <tr>\n",
       "      <th>0</th>\n",
       "      <td>2008-09-01</td>\n",
       "      <td>452928568</td>\n",
       "    </tr>\n",
       "    <tr>\n",
       "      <th>1</th>\n",
       "      <td>2008-10-01</td>\n",
       "      <td>365400138</td>\n",
       "    </tr>\n",
       "    <tr>\n",
       "      <th>2</th>\n",
       "      <td>2008-11-01</td>\n",
       "      <td>221759651</td>\n",
       "    </tr>\n",
       "    <tr>\n",
       "      <th>3</th>\n",
       "      <td>2008-12-01</td>\n",
       "      <td>197792841</td>\n",
       "    </tr>\n",
       "    <tr>\n",
       "      <th>4</th>\n",
       "      <td>2008-08-01</td>\n",
       "      <td>131367083</td>\n",
       "    </tr>\n",
       "    <tr>\n",
       "      <th>5</th>\n",
       "      <td>2008-07-01</td>\n",
       "      <td>669895</td>\n",
       "    </tr>\n",
       "  </tbody>\n",
       "</table>\n",
       "</div>"
      ],
      "text/plain": [
       "   month_date  total_views\n",
       "0  2008-09-01    452928568\n",
       "1  2008-10-01    365400138\n",
       "2  2008-11-01    221759651\n",
       "3  2008-12-01    197792841\n",
       "4  2008-08-01    131367083\n",
       "5  2008-07-01       669895"
      ]
     },
     "metadata": {},
     "output_type": "display_data"
    }
   ],
   "source": [
    "# напишите запрос\n",
    "query = '''\n",
    "SELECT\n",
    "    DISTINCT(CAST(DATE_TRUNC('month', post.creation_date) AS date)) AS month_date,\n",
    "    SUM(views_count) OVER (PARTITION BY CAST(DATE_TRUNC('month', post.creation_date) AS date)) AS total_views\n",
    "FROM stackoverflow.posts AS post\n",
    "ORDER BY total_views DESC\n",
    "'''\n",
    "\n",
    "# выполните запрос\n",
    "question_1 = pd.read_sql_query(query, con=engine) \n",
    "display(question_1)"
   ]
  },
  {
   "cell_type": "markdown",
   "metadata": {
    "id": "I_ZvhOxkDWKp"
   },
   "source": [
    "Проанализируйте итоговую таблицу. Отличаются ли данные за разные месяцы? С чем могут быть связаны отличия?"
   ]
  },
  {
   "cell_type": "code",
   "execution_count": 5,
   "metadata": {},
   "outputs": [
    {
     "data": {
      "text/plain": [
       "[Text(0.5, 1.0, 'График роста количества просмотров по месяцам за 2008 год'),\n",
       " Text(0, 0.5, 'Количество просмотров'),\n",
       " Text(0.5, 0, 'Месяц')]"
      ]
     },
     "execution_count": 5,
     "metadata": {},
     "output_type": "execute_result"
    },
    {
     "data": {
      "image/png": "[encoded data removed]",
      "text/plain": [
       "<Figure size 1200x800 with 1 Axes>"
      ]
     },
     "metadata": {},
     "output_type": "display_data"
    }
   ],
   "source": [
    "question_1['month_date'] = pd.to_datetime(question_1['month_date'], format='%Y-%m-%d')\n",
    "plt.figure(figsize=(12, 8))\n",
    "plt.plot(range(7, 13), question_1['total_views'].sort_values())\n",
    "plt.gca().set(title='График роста количества просмотров по месяцам за 2008 год', ylabel='Количество просмотров', xlabel='Месяц')"
   ]
  },
  {
   "cell_type": "markdown",
   "metadata": {
    "id": "luxSj17oDWKq"
   },
   "source": [
    "<b>Ответ</b>\n",
    "\n",
    "Данные предоставлены лишь за полгода, наименьшее значение равно примерно 670 тыс. просмотров, что довольно немного, примерно по 22 тыс. в день, в следующий месяц кол-во просмотров уже почти в 2 раза больше, кроме того, наблюдается значительно высокий рост общего количества просмотров постов на сайте - за полгода рассматриваемый показатель повысился в 67 раз, т.е., по сути, рост популярности сайта. Эти данные говорят о том, что в июле 2008 года stackoverflow только начинал свою деятельность, поэтому так быстро росло количество просмотров - всё больше людей узнавали о сайте и переходили на него, искали ответы на вопросы"
   ]
  },
  {
   "cell_type": "markdown",
   "metadata": {
    "id": "FziIXkn5DWKr"
   },
   "source": [
    "# Задание 2 ✔"
   ]
  },
  {
   "cell_type": "markdown",
   "metadata": {
    "id": "fTGESZvYDWKr"
   },
   "source": [
    "Выведите имена самых активных пользователей, которые в первый месяц после регистрации (включая день регистрации) дали больше 100 ответов. Вопросы, которые задавали пользователи, не учитывайте. Для каждого имени пользователя выведите количество уникальных значений `user_id`. Отсортируйте результат по полю с именами в лексикографическом порядке."
   ]
  },
  {
   "cell_type": "markdown",
   "metadata": {
    "id": "W5-tv6Y3DWKs"
   },
   "source": [
    "| display_name | count |\n",
    "| ------------ | ----- |\n",
    "| 1800 INFORMATION | 1 |\n",
    "| Adam Bellaire | 1 |\n",
    "| Adam Davis | 1 |\n",
    "| ... | ... |"
   ]
  },
  {
   "cell_type": "code",
   "execution_count": 6,
   "metadata": {
    "id": "fIO-y-YjDWKt"
   },
   "outputs": [
    {
     "data": {
      "text/html": [
       "<div>\n",
       "<style scoped>\n",
       "    .dataframe tbody tr th:only-of-type {\n",
       "        vertical-align: middle;\n",
       "    }\n",
       "\n",
       "    .dataframe tbody tr th {\n",
       "        vertical-align: top;\n",
       "    }\n",
       "\n",
       "    .dataframe thead th {\n",
       "        text-align: right;\n",
       "    }\n",
       "</style>\n",
       "<table border=\"1\" class=\"dataframe\">\n",
       "  <thead>\n",
       "    <tr style=\"text-align: right;\">\n",
       "      <th></th>\n",
       "      <th>names</th>\n",
       "      <th>count</th>\n",
       "    </tr>\n",
       "  </thead>\n",
       "  <tbody>\n",
       "    <tr>\n",
       "      <th>0</th>\n",
       "      <td>1800 INFORMATION</td>\n",
       "      <td>1</td>\n",
       "    </tr>\n",
       "    <tr>\n",
       "      <th>1</th>\n",
       "      <td>Adam Bellaire</td>\n",
       "      <td>1</td>\n",
       "    </tr>\n",
       "    <tr>\n",
       "      <th>2</th>\n",
       "      <td>Adam Davis</td>\n",
       "      <td>1</td>\n",
       "    </tr>\n",
       "    <tr>\n",
       "      <th>3</th>\n",
       "      <td>Adam Liss</td>\n",
       "      <td>1</td>\n",
       "    </tr>\n",
       "    <tr>\n",
       "      <th>4</th>\n",
       "      <td>Alan</td>\n",
       "      <td>8</td>\n",
       "    </tr>\n",
       "    <tr>\n",
       "      <th>...</th>\n",
       "      <td>...</td>\n",
       "      <td>...</td>\n",
       "    </tr>\n",
       "    <tr>\n",
       "      <th>71</th>\n",
       "      <td>leppie</td>\n",
       "      <td>1</td>\n",
       "    </tr>\n",
       "    <tr>\n",
       "      <th>72</th>\n",
       "      <td>lomaxx</td>\n",
       "      <td>1</td>\n",
       "    </tr>\n",
       "    <tr>\n",
       "      <th>73</th>\n",
       "      <td>mattlant</td>\n",
       "      <td>1</td>\n",
       "    </tr>\n",
       "    <tr>\n",
       "      <th>74</th>\n",
       "      <td>paxdiablo</td>\n",
       "      <td>1</td>\n",
       "    </tr>\n",
       "    <tr>\n",
       "      <th>75</th>\n",
       "      <td>tzot</td>\n",
       "      <td>1</td>\n",
       "    </tr>\n",
       "  </tbody>\n",
       "</table>\n",
       "<p>76 rows × 2 columns</p>\n",
       "</div>"
      ],
      "text/plain": [
       "               names  count\n",
       "0   1800 INFORMATION      1\n",
       "1      Adam Bellaire      1\n",
       "2         Adam Davis      1\n",
       "3          Adam Liss      1\n",
       "4               Alan      8\n",
       "..               ...    ...\n",
       "71            leppie      1\n",
       "72            lomaxx      1\n",
       "73          mattlant      1\n",
       "74         paxdiablo      1\n",
       "75              tzot      1\n",
       "\n",
       "[76 rows x 2 columns]"
      ]
     },
     "metadata": {},
     "output_type": "display_data"
    }
   ],
   "source": [
    "# напишите запрос\n",
    "query = '''\n",
    "select us.display_name AS names,\n",
    "    COUNT(DISTINCT post.user_id)\n",
    "FROM stackoverflow.users AS us\n",
    "JOIN stackoverflow.posts AS post ON us.id=post.user_id\n",
    "JOIN stackoverflow.post_types AS pt ON pt.id=post.post_type_id\n",
    "WHERE pt.type = 'Answer'\n",
    "AND post.creation_date <= us.creation_date + INTERVAL '1 months'\n",
    "\n",
    "GROUP BY 1\n",
    "HAVING COUNT(pt.type) > 100\n",
    "ORDER BY 1\n",
    "'''\n",
    "\n",
    "# выполните запрос\n",
    "question_2 = pd.read_sql_query(query, con=engine)\n",
    "display(question_2)"
   ]
  },
  {
   "cell_type": "markdown",
   "metadata": {
    "id": "I3Wr82TplKpI"
   },
   "source": [
    "Какие аномалии наблюдаются в данных? О чём они говорят?"
   ]
  },
  {
   "cell_type": "code",
   "execution_count": 7,
   "metadata": {
    "id": "CEIGGQ6ODWKy"
   },
   "outputs": [
    {
     "data": {
      "image/png": "[encoded data removed]",
      "text/plain": [
       "<Figure size 2000x600 with 1 Axes>"
      ]
     },
     "metadata": {},
     "output_type": "display_data"
    }
   ],
   "source": [
    "# напишите ваш ответ здесь \n",
    "\n",
    "fig, ax = plt.subplots()\n",
    "\n",
    "ax.bar(question_2['names'].index, question_2['count'])\n",
    "ax.set_title('Диаграмма количества повторений отображаемых имён')\n",
    "ax.set_xlabel('Индекс имени в списке')\n",
    "ax.set_facecolor('seashell')\n",
    "fig.set_figwidth(20)\n",
    "fig.set_figheight(6)\n",
    "\n",
    "plt.show()"
   ]
  },
  {
   "cell_type": "code",
   "execution_count": 8,
   "metadata": {},
   "outputs": [
    {
     "name": "stdout",
     "output_type": "stream",
     "text": [
      "['1800 INFORMATION' 'Adam Bellaire' 'Adam Davis' 'Adam Liss' 'Alan'\n",
      " 'Amy B' 'Ben Hoffstein' 'Brian' 'Cade Roux' 'CesarB' 'Chris'\n",
      " 'ConcernedOfTunbridgeWells' 'Craig' 'Dale Ragan' 'Dan' 'Eric Z Beard'\n",
      " 'Espo' 'FlySwat' 'Franci Penov' 'GEOCHET' 'GateKiller' 'Greg'\n",
      " 'Gulzar Nazim' 'Ilya Kochetov' 'James Curran' 'Jim' 'Joe' 'Joel Coehoorn'\n",
      " 'Johannes Schaub - litb' 'John Millikin' 'Jon Limjap' 'Jon Skeet'\n",
      " 'Jorge Ferreira' 'Josh' 'Keith' 'Kevin' 'Kibbee' 'Konrad Rudolph'\n",
      " 'Lasse Vågsæther Karlsen' 'Marc Gravell' 'Mark' 'Mark Cidade'\n",
      " 'Mark Harrison' 'Matt' 'Matt Hamilton' 'Michael Burr' 'Michael Stum'\n",
      " 'Mitchel Sellers' 'Nick' 'Norman Ramsey' 'Oli' 'Orion Edwards'\n",
      " 'Paul Nathan' 'PhiLho' 'Rob' 'Rob Cooper' 'Rob Walker' 'Ryan' 'S.Lott'\n",
      " 'Sklivvz' 'Steven A. Lowe' 'TheSmurf' 'Tom' 'Vilx-' 'Vinko Vrsalovic'\n",
      " 'aku' 'anjanb' 'dkretz' 'frankodwyer' 'gbjbaanb' 'jfs' 'leppie' 'lomaxx'\n",
      " 'mattlant' 'paxdiablo' 'tzot']\n",
      "10    Chris\n",
      "43     Matt\n",
      "Name: names, dtype: object\n"
     ]
    }
   ],
   "source": [
    "print(question_2['names'].unique())\n",
    "print(question_2.loc[[10, 43], 'names'])"
   ]
  },
  {
   "cell_type": "markdown",
   "metadata": {},
   "source": [
    "<b>Вывод</b>\n",
    "\n",
    "Как мы видим из графика, одно имя могут иметь сразу несколько пользователей, у некоторых имен число владельцев доходит до 30. Это происходит из-за того, что пользователи выбирают в качестве отображаемого имени не никнейм или комбинацию \"первое имя + второе имя\"(имя, фамилия), а только имя, поэтому мы видим, что наиболее распротранены такие отображаемые имена как: Chris, Matt, Nick и т.д.\n",
    "\n",
    "То есть заметна тенденция среди активных пользователей подписываться своим первым именем."
   ]
  },
  {
   "cell_type": "markdown",
   "metadata": {
    "id": "JhM2xXj5DWKu"
   },
   "source": [
    "# Задание 3 ✔"
   ]
  },
  {
   "cell_type": "markdown",
   "metadata": {
    "id": "IS6xPqyyDWKu"
   },
   "source": [
    "Выведите количество постов за 2008 год по месяцам. Отберите посты от пользователей, которые зарегистрировались в сентябре 2008 года и сделали хотя бы один пост в декабре того же года. Отсортируйте таблицу по значению месяца по убыванию."
   ]
  },
  {
   "cell_type": "markdown",
   "metadata": {
    "id": "WmjhjV2xDWKv"
   },
   "source": [
    "| month | count |\n",
    "| ------|------ |\n",
    "| 2008-12-01 | 17641 |\n",
    "| 2008-11-01 | 18294 |\n",
    "| ... | ... |"
   ]
  },
  {
   "cell_type": "code",
   "execution_count": 9,
   "metadata": {
    "id": "kVu0FB8WDWKv"
   },
   "outputs": [
    {
     "data": {
      "text/html": [
       "<div>\n",
       "<style scoped>\n",
       "    .dataframe tbody tr th:only-of-type {\n",
       "        vertical-align: middle;\n",
       "    }\n",
       "\n",
       "    .dataframe tbody tr th {\n",
       "        vertical-align: top;\n",
       "    }\n",
       "\n",
       "    .dataframe thead th {\n",
       "        text-align: right;\n",
       "    }\n",
       "</style>\n",
       "<table border=\"1\" class=\"dataframe\">\n",
       "  <thead>\n",
       "    <tr style=\"text-align: right;\">\n",
       "      <th></th>\n",
       "      <th>months</th>\n",
       "      <th>count</th>\n",
       "    </tr>\n",
       "  </thead>\n",
       "  <tbody>\n",
       "    <tr>\n",
       "      <th>0</th>\n",
       "      <td>2008-12-01</td>\n",
       "      <td>17641</td>\n",
       "    </tr>\n",
       "    <tr>\n",
       "      <th>1</th>\n",
       "      <td>2008-11-01</td>\n",
       "      <td>18294</td>\n",
       "    </tr>\n",
       "    <tr>\n",
       "      <th>2</th>\n",
       "      <td>2008-10-01</td>\n",
       "      <td>27171</td>\n",
       "    </tr>\n",
       "    <tr>\n",
       "      <th>3</th>\n",
       "      <td>2008-09-01</td>\n",
       "      <td>24870</td>\n",
       "    </tr>\n",
       "    <tr>\n",
       "      <th>4</th>\n",
       "      <td>2008-08-01</td>\n",
       "      <td>32</td>\n",
       "    </tr>\n",
       "  </tbody>\n",
       "</table>\n",
       "</div>"
      ],
      "text/plain": [
       "       months  count\n",
       "0  2008-12-01  17641\n",
       "1  2008-11-01  18294\n",
       "2  2008-10-01  27171\n",
       "3  2008-09-01  24870\n",
       "4  2008-08-01     32"
      ]
     },
     "metadata": {},
     "output_type": "display_data"
    }
   ],
   "source": [
    "# напишите запрос\n",
    "query = '''\n",
    "WITH table_1 AS (SELECT\n",
    "                    DISTINCT(us.id) as usid,\n",
    "                    COUNT(post.id) OVER (PARTITION BY us.id) AS dec_count\n",
    "                FROM stackoverflow.users AS us\n",
    "                JOIN stackoverflow.posts AS post ON us.id=post.user_id\n",
    "                WHERE post.creation_date BETWEEN '2008-12-01' AND '2009-01-01')\n",
    "\n",
    "SELECT\n",
    "    DISTINCT(CAST(DATE_TRUNC('month', post.creation_date) AS date)) AS months,\n",
    "    COUNT(post.id) OVER (PARTITION BY CAST(DATE_TRUNC('month', post.creation_date) AS date))\n",
    "FROM stackoverflow.posts AS post\n",
    "JOIN stackoverflow.users AS us ON us.id=post.user_id\n",
    "JOIN table_1 ON table_1.usid=us.id\n",
    "WHERE us.creation_date BETWEEN '2008-09-01' AND '2008-10-01'\n",
    "AND post.creation_date BETWEEN '2008-01-01' AND '2009-01-01'\n",
    "AND table_1.dec_count > 0\n",
    "ORDER BY months DESC\n",
    "'''\n",
    "\n",
    "# выполните запрос\n",
    "question_3 = pd.read_sql_query(query, con=engine)\n",
    "display(question_3)"
   ]
  },
  {
   "cell_type": "markdown",
   "metadata": {
    "id": "Vnxn9DVHDWKx"
   },
   "source": [
    "Изучите данные: есть ли в них аномалии? Предположите, почему могли появиться аномальные значения."
   ]
  },
  {
   "cell_type": "markdown",
   "metadata": {
    "id": "MMVIz4yMlKpN"
   },
   "source": [
    "<b>Вывод</b>\n",
    "\n",
    "Аномальными можно считать: количество постов за август и падение количества постов в ноябре-декабре. \n",
    "\n",
    "Как мы выяснили в задании 1, сайт начал свою работу лишь в июле 2008, и, естественно, в начале активности на сайте было минимум, пока о нем знали лишь в узком кругу людей, потом о сайте узнало большое количество людей и количество постов кратно выросло. Отсюда резкий скачок с 32 постов за август до 24870 за сентябрь.\n",
    "\n",
    "Этим же можно и объяснить падение в полтора раза в ноябре: первые пару месяцев о сайте узнавало всё больше людей, рекламная кампания сайта (если она была) только начинала свою деятельность, однако через небольшое время всё меньше новых людей стали приходить (или рекламная кампания достигла пика распространения в выбранной области), при этом какая-то часть тех, кто пришел в первые два месяца, уходила и поэтому количество постов снизилось - сначала возник большой интерес к новому продукту, и со временем он падал."
   ]
  },
  {
   "cell_type": "markdown",
   "metadata": {
    "id": "5Pcizm0DDWKz"
   },
   "source": [
    "# Задание 4 ✔"
   ]
  },
  {
   "cell_type": "markdown",
   "metadata": {
    "id": "KUZPF6vHDWKz"
   },
   "source": [
    "Используя данные о постах, выведите несколько полей:\n",
    "\n",
    "- идентификатор пользователя, который написал пост;\n",
    "- дата создания поста;\n",
    "- количество просмотров у текущего поста;\n",
    "- сумму просмотров постов автора с накоплением.\n",
    "\n",
    "Данные в таблице должны быть отсортированы по возрастанию идентификаторов пользователей, а данные об одном и том же пользователе — по возрастанию даты создания поста."
   ]
  },
  {
   "cell_type": "markdown",
   "metadata": {
    "id": "ZpsTUVDYDWK0"
   },
   "source": [
    "| user_id | creation_date | views_count | cumulative_count |\n",
    "| ------ | -------------- | ----------- | ---------------- |\n",
    "| 1 | 2008-07-31 23:41:00  | 480476   | 480476  |\n",
    "| 1 | 2008-07-31 23:55:38  | 136033 | 616509  | \n",
    "| 1 | 2008-07-31 23:56:41  | 0 |  616509  |\n",
    "| ... | ... | ... | ... |\n",
    "| 2 | 2008-07-31 23:56:41 | 79087  | 79087 |\n",
    "| 2 | 2008-08-01 05:09:56 | 65443 | 144530 |\n",
    "| ... | ...  | ...  | ...  |"
   ]
  },
  {
   "cell_type": "code",
   "execution_count": 10,
   "metadata": {
    "id": "hDoJhMzfDWK0"
   },
   "outputs": [
    {
     "data": {
      "text/html": [
       "<div>\n",
       "<style scoped>\n",
       "    .dataframe tbody tr th:only-of-type {\n",
       "        vertical-align: middle;\n",
       "    }\n",
       "\n",
       "    .dataframe tbody tr th {\n",
       "        vertical-align: top;\n",
       "    }\n",
       "\n",
       "    .dataframe thead th {\n",
       "        text-align: right;\n",
       "    }\n",
       "</style>\n",
       "<table border=\"1\" class=\"dataframe\">\n",
       "  <thead>\n",
       "    <tr style=\"text-align: right;\">\n",
       "      <th></th>\n",
       "      <th>user_id</th>\n",
       "      <th>creation_date</th>\n",
       "      <th>views_count</th>\n",
       "      <th>sum</th>\n",
       "    </tr>\n",
       "  </thead>\n",
       "  <tbody>\n",
       "    <tr>\n",
       "      <th>0</th>\n",
       "      <td>1</td>\n",
       "      <td>2008-07-31 23:41:00</td>\n",
       "      <td>480476</td>\n",
       "      <td>480476</td>\n",
       "    </tr>\n",
       "    <tr>\n",
       "      <th>1</th>\n",
       "      <td>1</td>\n",
       "      <td>2008-07-31 23:55:38</td>\n",
       "      <td>136033</td>\n",
       "      <td>616509</td>\n",
       "    </tr>\n",
       "    <tr>\n",
       "      <th>2</th>\n",
       "      <td>1</td>\n",
       "      <td>2008-07-31 23:56:41</td>\n",
       "      <td>0</td>\n",
       "      <td>616509</td>\n",
       "    </tr>\n",
       "    <tr>\n",
       "      <th>3</th>\n",
       "      <td>1</td>\n",
       "      <td>2008-08-04 02:45:08</td>\n",
       "      <td>0</td>\n",
       "      <td>616509</td>\n",
       "    </tr>\n",
       "    <tr>\n",
       "      <th>4</th>\n",
       "      <td>1</td>\n",
       "      <td>2008-08-04 04:31:03</td>\n",
       "      <td>0</td>\n",
       "      <td>616509</td>\n",
       "    </tr>\n",
       "    <tr>\n",
       "      <th>...</th>\n",
       "      <td>...</td>\n",
       "      <td>...</td>\n",
       "      <td>...</td>\n",
       "      <td>...</td>\n",
       "    </tr>\n",
       "    <tr>\n",
       "      <th>243791</th>\n",
       "      <td>5696608</td>\n",
       "      <td>2008-12-23 16:00:37</td>\n",
       "      <td>0</td>\n",
       "      <td>2804</td>\n",
       "    </tr>\n",
       "    <tr>\n",
       "      <th>243792</th>\n",
       "      <td>5696608</td>\n",
       "      <td>2008-12-23 17:35:09</td>\n",
       "      <td>0</td>\n",
       "      <td>2804</td>\n",
       "    </tr>\n",
       "    <tr>\n",
       "      <th>243793</th>\n",
       "      <td>5696608</td>\n",
       "      <td>2008-12-24 01:02:48</td>\n",
       "      <td>0</td>\n",
       "      <td>2804</td>\n",
       "    </tr>\n",
       "    <tr>\n",
       "      <th>243794</th>\n",
       "      <td>5696608</td>\n",
       "      <td>2008-12-30 14:34:45</td>\n",
       "      <td>0</td>\n",
       "      <td>2804</td>\n",
       "    </tr>\n",
       "    <tr>\n",
       "      <th>243795</th>\n",
       "      <td>5696608</td>\n",
       "      <td>2008-12-30 16:32:12</td>\n",
       "      <td>0</td>\n",
       "      <td>2804</td>\n",
       "    </tr>\n",
       "  </tbody>\n",
       "</table>\n",
       "<p>243796 rows × 4 columns</p>\n",
       "</div>"
      ],
      "text/plain": [
       "        user_id       creation_date  views_count     sum\n",
       "0             1 2008-07-31 23:41:00       480476  480476\n",
       "1             1 2008-07-31 23:55:38       136033  616509\n",
       "2             1 2008-07-31 23:56:41            0  616509\n",
       "3             1 2008-08-04 02:45:08            0  616509\n",
       "4             1 2008-08-04 04:31:03            0  616509\n",
       "...         ...                 ...          ...     ...\n",
       "243791  5696608 2008-12-23 16:00:37            0    2804\n",
       "243792  5696608 2008-12-23 17:35:09            0    2804\n",
       "243793  5696608 2008-12-24 01:02:48            0    2804\n",
       "243794  5696608 2008-12-30 14:34:45            0    2804\n",
       "243795  5696608 2008-12-30 16:32:12            0    2804\n",
       "\n",
       "[243796 rows x 4 columns]"
      ]
     },
     "metadata": {},
     "output_type": "display_data"
    }
   ],
   "source": [
    "# напишите запрос\n",
    "query = '''\n",
    "SELECT\n",
    "    post.user_id,\n",
    "    post.creation_date,\n",
    "    post.views_count,\n",
    "    SUM(post.views_count) OVER (Partition by post.user_id ORDER BY post.creation_date)\n",
    "FROM stackoverflow.posts AS post\n",
    "ORDER BY post.user_id, post.creation_date\n",
    "'''\n",
    "\n",
    "# выполните запрос\n",
    "question_4 = pd.read_sql_query(query, con=engine)\n",
    "display(question_4)"
   ]
  },
  {
   "cell_type": "markdown",
   "metadata": {
    "id": "N0kHRHvIDWK2"
   },
   "source": [
    "# Задание 5 ✔"
   ]
  },
  {
   "cell_type": "markdown",
   "metadata": {
    "id": "gBgvmPtODWK2"
   },
   "source": [
    "Найдите среднее количество постов пользователей в день за август 2008 года. Отберите данные о пользователях, которые опубликовали больше 120 постов за август. Дни без публикаций не учитывайте. \n",
    "\n",
    "Отсортируйте результат по возрастанию среднего количества постов. Значения можно не округлять."
   ]
  },
  {
   "cell_type": "markdown",
   "metadata": {
    "id": "nfzR08BODWK3"
   },
   "source": [
    "| user_id | avg_daily |\n",
    "| ------- | --------- |\n",
    "| 116     | 4.777778  |\n",
    "| 234     | 5.208333  |\n",
    "| ...     | ... |"
   ]
  },
  {
   "cell_type": "code",
   "execution_count": 11,
   "metadata": {
    "id": "YFyPNz5GDWK3"
   },
   "outputs": [
    {
     "data": {
      "text/html": [
       "<div>\n",
       "<style scoped>\n",
       "    .dataframe tbody tr th:only-of-type {\n",
       "        vertical-align: middle;\n",
       "    }\n",
       "\n",
       "    .dataframe tbody tr th {\n",
       "        vertical-align: top;\n",
       "    }\n",
       "\n",
       "    .dataframe thead th {\n",
       "        text-align: right;\n",
       "    }\n",
       "</style>\n",
       "<table border=\"1\" class=\"dataframe\">\n",
       "  <thead>\n",
       "    <tr style=\"text-align: right;\">\n",
       "      <th></th>\n",
       "      <th>uid</th>\n",
       "      <th>avg_daily</th>\n",
       "    </tr>\n",
       "  </thead>\n",
       "  <tbody>\n",
       "    <tr>\n",
       "      <th>0</th>\n",
       "      <td>116</td>\n",
       "      <td>4.777778</td>\n",
       "    </tr>\n",
       "    <tr>\n",
       "      <th>1</th>\n",
       "      <td>234</td>\n",
       "      <td>5.208333</td>\n",
       "    </tr>\n",
       "    <tr>\n",
       "      <th>2</th>\n",
       "      <td>91</td>\n",
       "      <td>5.681818</td>\n",
       "    </tr>\n",
       "    <tr>\n",
       "      <th>3</th>\n",
       "      <td>905</td>\n",
       "      <td>7.000000</td>\n",
       "    </tr>\n",
       "    <tr>\n",
       "      <th>4</th>\n",
       "      <td>383</td>\n",
       "      <td>7.277778</td>\n",
       "    </tr>\n",
       "  </tbody>\n",
       "</table>\n",
       "</div>"
      ],
      "text/plain": [
       "   uid  avg_daily\n",
       "0  116   4.777778\n",
       "1  234   5.208333\n",
       "2   91   5.681818\n",
       "3  905   7.000000\n",
       "4  383   7.277778"
      ]
     },
     "metadata": {},
     "output_type": "display_data"
    }
   ],
   "source": [
    "# напишите запрос\n",
    "query = '''\n",
    "WITH table_1 AS\n",
    "        (SELECT\n",
    "            uid,\n",
    "            days,\n",
    "            COUNT(days) AS per_day\n",
    "        FROM (SELECT\n",
    "                    post.user_id AS uid,\n",
    "                    CAST(DATE_TRUNC('day', post.creation_date) AS date) AS days,\n",
    "                    COUNT(post.id) OVER (PARTITION BY post.user_id, CAST(DATE_TRUNC('day', post.creation_date) AS date))\n",
    "            FROM stackoverflow.posts AS post\n",
    "            WHERE post.creation_date BETWEEN '2008-08-01' AND '2008-09-01') AS table_1\n",
    "        GROUP BY uid, days\n",
    "        ORDER BY uid, days)\n",
    "\n",
    "SELECT\n",
    "    uid,\n",
    "    SUM(per_day) / COUNT(per_day) AS avg_daily\n",
    "FROM table_1\n",
    "GROUP BY uid\n",
    "HAVING SUM(per_day) > 120\n",
    "ORDER BY avg_daily\n",
    "'''\n",
    "\n",
    "# выполните запрос\n",
    "question_5 = pd.read_sql_query(query, con=engine)\n",
    "display(question_5)"
   ]
  },
  {
   "cell_type": "markdown",
   "metadata": {
    "id": "EQ0dcFH4DWK5"
   },
   "source": [
    "# Задание 6 ✔"
   ]
  },
  {
   "cell_type": "markdown",
   "metadata": {
    "id": "c7flfg_hDWK5"
   },
   "source": [
    "Сколько в среднем дней в период с 1 по 7 декабря 2008 года пользователи взаимодействовали с платформой? Для каждого пользователя отберите дни, в которые он или она опубликовали хотя бы один пост. Нужно получить одно целое число — не забудьте округлить результат. "
   ]
  },
  {
   "cell_type": "markdown",
   "metadata": {
    "id": "RC1Ibzm9DWK6"
   },
   "source": [
    "| result |\n",
    "| -----  |\n",
    "| <целое число> |"
   ]
  },
  {
   "cell_type": "code",
   "execution_count": 12,
   "metadata": {
    "id": "kZ7LXTr6DWK6"
   },
   "outputs": [
    {
     "data": {
      "text/html": [
       "<div>\n",
       "<style scoped>\n",
       "    .dataframe tbody tr th:only-of-type {\n",
       "        vertical-align: middle;\n",
       "    }\n",
       "\n",
       "    .dataframe tbody tr th {\n",
       "        vertical-align: top;\n",
       "    }\n",
       "\n",
       "    .dataframe thead th {\n",
       "        text-align: right;\n",
       "    }\n",
       "</style>\n",
       "<table border=\"1\" class=\"dataframe\">\n",
       "  <thead>\n",
       "    <tr style=\"text-align: right;\">\n",
       "      <th></th>\n",
       "      <th>result</th>\n",
       "    </tr>\n",
       "  </thead>\n",
       "  <tbody>\n",
       "    <tr>\n",
       "      <th>0</th>\n",
       "      <td>2.0</td>\n",
       "    </tr>\n",
       "  </tbody>\n",
       "</table>\n",
       "</div>"
      ],
      "text/plain": [
       "   result\n",
       "0     2.0"
      ]
     },
     "metadata": {},
     "output_type": "display_data"
    }
   ],
   "source": [
    "# напишите запрос\n",
    "query = '''\n",
    "WITH table_1 AS\n",
    "(SELECT\n",
    "    DISTINCT(post.user_id) AS uid,\n",
    "    COUNT(CAST(DATE_TRUNC ('day', post.creation_date) AS date)) OVER (PARTITION BY post.user_id, CAST(DATE_TRUNC ('day', post.creation_date) AS date)) AS dayss\n",
    "FROM stackoverflow.posts AS post\n",
    "WHERE post.creation_date BEtwEEN '2008-12-01' AND '2008-12-08'\n",
    "ORDER BY uid)\n",
    "\n",
    "SELECT\n",
    "   ROUND(SUM(dayss)/COUNT(DISTINCT(uid)))AS result\n",
    "FROM table_1 \n",
    "'''\n",
    "\n",
    "# выполните запрос\n",
    "question_6 = pd.read_sql_query(query, con=engine)\n",
    "display(question_6)"
   ]
  },
  {
   "cell_type": "markdown",
   "metadata": {
    "id": "UJFtNNggDWK7"
   },
   "source": [
    "Проанализируйте итоговую таблицу — какие выводы можно сделать?"
   ]
  },
  {
   "cell_type": "markdown",
   "metadata": {
    "id": "LfUuYz-1DWK8"
   },
   "source": [
    "<b>Вывод</b>\n",
    "\n",
    "В рассматриваемый период, в среднем, пользователи проявляли активность лишь 2 дня из 7 рассматриваемых, т.е. один человек публиковал посты только в 2 дня из 7, что вполне логично, учитывая специфику сайта - Q&A - люди приходят за ответом на вопрос и, получая ответ, уходят. Исходя из этого, можно предположить, что на получение нужного ответа в среднем уходит около суток обсуждения темы."
   ]
  },
  {
   "cell_type": "markdown",
   "metadata": {
    "id": "wfOmqmfLDWK8"
   },
   "source": [
    "# Задание 7 ✔"
   ]
  },
  {
   "cell_type": "markdown",
   "metadata": {
    "id": "X4ARQimADWK9"
   },
   "source": [
    "Выведите историю активности каждого пользователя в таком виде: идентификатор пользователя, дата публикации поста. Отсортируйте вывод по возрастанию идентификаторов пользователей, а для каждого пользователя — по возрастанию даты публикации.\n",
    "\n",
    "Добавьте в таблицу новое поле: для каждого поста в нём будет указано название месяца предпоследней публикации пользователя относительно текущей. Если такой публикации нет, укажите `NULL`.  Python автоматически поменяет `NULL` на `None`, но дополнительно преобразовывать значения `None` вам не нужно.\n",
    "\n",
    "Посмотрите внимательно на образец таблицы: для первых двух постов предпоследней публикации нет, но, начиная с третьего поста, в новое поле входит нужный месяц. Для следующего пользователя в первые две записи поля `second_last_month` тоже войдёт `NULL`."
   ]
  },
  {
   "cell_type": "markdown",
   "metadata": {
    "id": "IGPjRP01DWK9"
   },
   "source": [
    "| user_id | creation_date | second_last_month |\n",
    "| ------- | ------------- | ----------------- |\n",
    "| 1       | 2008-07-31 23:41:00 | None |\n",
    "| 1       | 2008-07-31 23:55:38 | None |\n",
    "| 1       | 2008-07-31 23:56:41 | July |\n",
    "| 1       | 2008-08-04 02:45:08 | July |\n",
    "| 1       | 2008-08-04 04:31:03 | July |\n",
    "| 1       | 2008-08-04 08:04:42 | August |\n",
    "| ... | ... | ... |"
   ]
  },
  {
   "cell_type": "code",
   "execution_count": 13,
   "metadata": {
    "id": "HzI1vhaMDWK-"
   },
   "outputs": [
    {
     "data": {
      "text/html": [
       "<div>\n",
       "<style scoped>\n",
       "    .dataframe tbody tr th:only-of-type {\n",
       "        vertical-align: middle;\n",
       "    }\n",
       "\n",
       "    .dataframe tbody tr th {\n",
       "        vertical-align: top;\n",
       "    }\n",
       "\n",
       "    .dataframe thead th {\n",
       "        text-align: right;\n",
       "    }\n",
       "</style>\n",
       "<table border=\"1\" class=\"dataframe\">\n",
       "  <thead>\n",
       "    <tr style=\"text-align: right;\">\n",
       "      <th></th>\n",
       "      <th>user_id</th>\n",
       "      <th>creation_date</th>\n",
       "      <th>case</th>\n",
       "    </tr>\n",
       "  </thead>\n",
       "  <tbody>\n",
       "    <tr>\n",
       "      <th>0</th>\n",
       "      <td>1</td>\n",
       "      <td>2008-07-31 23:41:00</td>\n",
       "      <td>None</td>\n",
       "    </tr>\n",
       "    <tr>\n",
       "      <th>1</th>\n",
       "      <td>1</td>\n",
       "      <td>2008-07-31 23:55:38</td>\n",
       "      <td>None</td>\n",
       "    </tr>\n",
       "    <tr>\n",
       "      <th>2</th>\n",
       "      <td>1</td>\n",
       "      <td>2008-07-31 23:56:41</td>\n",
       "      <td>July</td>\n",
       "    </tr>\n",
       "    <tr>\n",
       "      <th>3</th>\n",
       "      <td>1</td>\n",
       "      <td>2008-08-04 02:45:08</td>\n",
       "      <td>July</td>\n",
       "    </tr>\n",
       "    <tr>\n",
       "      <th>4</th>\n",
       "      <td>1</td>\n",
       "      <td>2008-08-04 04:31:03</td>\n",
       "      <td>July</td>\n",
       "    </tr>\n",
       "    <tr>\n",
       "      <th>...</th>\n",
       "      <td>...</td>\n",
       "      <td>...</td>\n",
       "      <td>...</td>\n",
       "    </tr>\n",
       "    <tr>\n",
       "      <th>243791</th>\n",
       "      <td>5696608</td>\n",
       "      <td>2008-12-23 16:00:37</td>\n",
       "      <td>December</td>\n",
       "    </tr>\n",
       "    <tr>\n",
       "      <th>243792</th>\n",
       "      <td>5696608</td>\n",
       "      <td>2008-12-23 17:35:09</td>\n",
       "      <td>December</td>\n",
       "    </tr>\n",
       "    <tr>\n",
       "      <th>243793</th>\n",
       "      <td>5696608</td>\n",
       "      <td>2008-12-24 01:02:48</td>\n",
       "      <td>December</td>\n",
       "    </tr>\n",
       "    <tr>\n",
       "      <th>243794</th>\n",
       "      <td>5696608</td>\n",
       "      <td>2008-12-30 14:34:45</td>\n",
       "      <td>December</td>\n",
       "    </tr>\n",
       "    <tr>\n",
       "      <th>243795</th>\n",
       "      <td>5696608</td>\n",
       "      <td>2008-12-30 16:32:12</td>\n",
       "      <td>December</td>\n",
       "    </tr>\n",
       "  </tbody>\n",
       "</table>\n",
       "<p>243796 rows × 3 columns</p>\n",
       "</div>"
      ],
      "text/plain": [
       "        user_id       creation_date      case\n",
       "0             1 2008-07-31 23:41:00      None\n",
       "1             1 2008-07-31 23:55:38      None\n",
       "2             1 2008-07-31 23:56:41      July\n",
       "3             1 2008-08-04 02:45:08      July\n",
       "4             1 2008-08-04 04:31:03      July\n",
       "...         ...                 ...       ...\n",
       "243791  5696608 2008-12-23 16:00:37  December\n",
       "243792  5696608 2008-12-23 17:35:09  December\n",
       "243793  5696608 2008-12-24 01:02:48  December\n",
       "243794  5696608 2008-12-30 14:34:45  December\n",
       "243795  5696608 2008-12-30 16:32:12  December\n",
       "\n",
       "[243796 rows x 3 columns]"
      ]
     },
     "metadata": {},
     "output_type": "display_data"
    }
   ],
   "source": [
    "# напишите запрос\n",
    "query = '''\n",
    "SELECT\n",
    "    post.user_id,\n",
    "    post.creation_date,\n",
    "    CASE\n",
    "        WHEN LAG(EXTRACT(MONTH FROM CAST(post.creation_date AS timestamp)), 2, NULL) OVER (PARTITION BY post.user_id ORDER BY post.creation_date) = 1 THEN 'January'\n",
    "        WHEN LAG(EXTRACT(MONTH FROM CAST(post.creation_date AS timestamp)), 2, NULL) OVER (PARTITION BY post.user_id ORDER BY post.creation_date) = 2 THEN 'February'\n",
    "        WHEN LAG(EXTRACT(MONTH FROM CAST(post.creation_date AS timestamp)), 2, NULL) OVER (PARTITION BY post.user_id ORDER BY post.creation_date) = 3 THEN 'March'\n",
    "        WHEN LAG(EXTRACT(MONTH FROM CAST(post.creation_date AS timestamp)), 2, NULL) OVER (PARTITION BY post.user_id ORDER BY post.creation_date) = 4 THEN 'April'\n",
    "        WHEN LAG(EXTRACT(MONTH FROM CAST(post.creation_date AS timestamp)), 2, NULL) OVER (PARTITION BY post.user_id ORDER BY post.creation_date) = 5 THEN 'May'\n",
    "        WHEN LAG(EXTRACT(MONTH FROM CAST(post.creation_date AS timestamp)), 2, NULL) OVER (PARTITION BY post.user_id ORDER BY post.creation_date) = 6 THEN 'June'\n",
    "        WHEN LAG(EXTRACT(MONTH FROM CAST(post.creation_date AS timestamp)), 2, NULL) OVER (PARTITION BY post.user_id ORDER BY post.creation_date) = 7 THEN 'July'\n",
    "        WHEN LAG(EXTRACT(MONTH FROM CAST(post.creation_date AS timestamp)), 2, NULL) OVER (PARTITION BY post.user_id ORDER BY post.creation_date) = 8 THEN 'August'\n",
    "        WHEN LAG(EXTRACT(MONTH FROM CAST(post.creation_date AS timestamp)), 2, NULL) OVER (PARTITION BY post.user_id ORDER BY post.creation_date) = 9 THEN 'September'\n",
    "        WHEN LAG(EXTRACT(MONTH FROM CAST(post.creation_date AS timestamp)), 2, NULL) OVER (PARTITION BY post.user_id ORDER BY post.creation_date) = 10 THEN 'October'\n",
    "        WHEN LAG(EXTRACT(MONTH FROM CAST(post.creation_date AS timestamp)), 2, NULL) OVER (PARTITION BY post.user_id ORDER BY post.creation_date) = 11 THEN 'November'\n",
    "        WHEN LAG(EXTRACT(MONTH FROM CAST(post.creation_date AS timestamp)), 2, NULL) OVER (PARTITION BY post.user_id ORDER BY post.creation_date) = 12 THEN 'December'\n",
    "        ELSE NULL\n",
    "    END\n",
    "    \n",
    "FROM stackoverflow.posts AS post\n",
    "\n",
    "'''\n",
    "\n",
    "# выполните запрос\n",
    "question_7 = pd.read_sql_query(query, con=engine)\n",
    "display(question_7)"
   ]
  },
  {
   "cell_type": "markdown",
   "metadata": {
    "id": "tf9qq2yzDWK_"
   },
   "source": [
    "# Задание 8✔"
   ]
  },
  {
   "cell_type": "markdown",
   "metadata": {
    "id": "gfwLVXBYDWLA"
   },
   "source": [
    "Рассчитайте аналог Retention Rate по месяцам для пользователей StackOverflow. Объедините пользователей в когорты по месяцу их первого поста. Возвращение определяйте по наличию поста в текущем месяце. "
   ]
  },
  {
   "cell_type": "markdown",
   "metadata": {
    "id": "kN2ic39WlKpl"
   },
   "source": [
    "| cohort_dt | session_date | users_cnt | cohort_users_cnt | retention_rate |\n",
    "| --- | --- | --- | --- | --- |\n",
    "| 2008-07-01 00:00:00 | 2008-07-01 00:00:00 | 3 | 3 | 100 |\n",
    "| 2008-07-01 00:00:00 | 2008-08-01 00:00:00 | 2 | 3 | 66,67 |\n",
    "| 2008-07-01 00:00:00 | 2008-09-01 00:00:00 | 1 | 3 | 33,33 |\n",
    "| 2008-07-01 00:00:00 | 2008-10-01 00:00:00 | 2 | 3 | 66,67 |\n",
    "| 2008-07-01 00:00:00 | 2008-11-01 00:00:00 | 1 | 3 | 33,33 |\n",
    "| 2008-07-01 00:00:00 | 2008-12-01 00:00:00 | 2 | 3 | 66,67 |\n",
    "| 2008-08-01 00:00:00 | 2008-08-01 00:00:00 | 2151 | 2151 | 100 |\n",
    "| ... | ... | ... | ... | ... |"
   ]
  },
  {
   "cell_type": "code",
   "execution_count": 14,
   "metadata": {
    "id": "LUgFmwmTDWLB"
   },
   "outputs": [
    {
     "data": {
      "text/html": [
       "<div>\n",
       "<style scoped>\n",
       "    .dataframe tbody tr th:only-of-type {\n",
       "        vertical-align: middle;\n",
       "    }\n",
       "\n",
       "    .dataframe tbody tr th {\n",
       "        vertical-align: top;\n",
       "    }\n",
       "\n",
       "    .dataframe thead th {\n",
       "        text-align: right;\n",
       "    }\n",
       "</style>\n",
       "<table border=\"1\" class=\"dataframe\">\n",
       "  <thead>\n",
       "    <tr style=\"text-align: right;\">\n",
       "      <th></th>\n",
       "      <th>cohort_dt</th>\n",
       "      <th>session_date</th>\n",
       "      <th>users_cnt</th>\n",
       "      <th>cohort_users_cnt</th>\n",
       "      <th>retention_rate</th>\n",
       "    </tr>\n",
       "  </thead>\n",
       "  <tbody>\n",
       "    <tr>\n",
       "      <th>0</th>\n",
       "      <td>2008-07-01</td>\n",
       "      <td>2008-07-01</td>\n",
       "      <td>3</td>\n",
       "      <td>3</td>\n",
       "      <td>100.00</td>\n",
       "    </tr>\n",
       "    <tr>\n",
       "      <th>1</th>\n",
       "      <td>2008-07-01</td>\n",
       "      <td>2008-08-01</td>\n",
       "      <td>2</td>\n",
       "      <td>3</td>\n",
       "      <td>66.67</td>\n",
       "    </tr>\n",
       "    <tr>\n",
       "      <th>2</th>\n",
       "      <td>2008-07-01</td>\n",
       "      <td>2008-09-01</td>\n",
       "      <td>1</td>\n",
       "      <td>3</td>\n",
       "      <td>33.33</td>\n",
       "    </tr>\n",
       "    <tr>\n",
       "      <th>3</th>\n",
       "      <td>2008-07-01</td>\n",
       "      <td>2008-10-01</td>\n",
       "      <td>2</td>\n",
       "      <td>3</td>\n",
       "      <td>66.67</td>\n",
       "    </tr>\n",
       "    <tr>\n",
       "      <th>4</th>\n",
       "      <td>2008-07-01</td>\n",
       "      <td>2008-11-01</td>\n",
       "      <td>1</td>\n",
       "      <td>3</td>\n",
       "      <td>33.33</td>\n",
       "    </tr>\n",
       "    <tr>\n",
       "      <th>5</th>\n",
       "      <td>2008-07-01</td>\n",
       "      <td>2008-12-01</td>\n",
       "      <td>2</td>\n",
       "      <td>3</td>\n",
       "      <td>66.67</td>\n",
       "    </tr>\n",
       "    <tr>\n",
       "      <th>6</th>\n",
       "      <td>2008-08-01</td>\n",
       "      <td>2008-08-01</td>\n",
       "      <td>2151</td>\n",
       "      <td>2151</td>\n",
       "      <td>100.00</td>\n",
       "    </tr>\n",
       "    <tr>\n",
       "      <th>7</th>\n",
       "      <td>2008-08-01</td>\n",
       "      <td>2008-09-01</td>\n",
       "      <td>1571</td>\n",
       "      <td>2151</td>\n",
       "      <td>73.04</td>\n",
       "    </tr>\n",
       "    <tr>\n",
       "      <th>8</th>\n",
       "      <td>2008-08-01</td>\n",
       "      <td>2008-10-01</td>\n",
       "      <td>1275</td>\n",
       "      <td>2151</td>\n",
       "      <td>59.27</td>\n",
       "    </tr>\n",
       "    <tr>\n",
       "      <th>9</th>\n",
       "      <td>2008-08-01</td>\n",
       "      <td>2008-11-01</td>\n",
       "      <td>1050</td>\n",
       "      <td>2151</td>\n",
       "      <td>48.81</td>\n",
       "    </tr>\n",
       "    <tr>\n",
       "      <th>10</th>\n",
       "      <td>2008-08-01</td>\n",
       "      <td>2008-12-01</td>\n",
       "      <td>894</td>\n",
       "      <td>2151</td>\n",
       "      <td>41.56</td>\n",
       "    </tr>\n",
       "    <tr>\n",
       "      <th>11</th>\n",
       "      <td>2008-09-01</td>\n",
       "      <td>2008-09-01</td>\n",
       "      <td>7678</td>\n",
       "      <td>7678</td>\n",
       "      <td>100.00</td>\n",
       "    </tr>\n",
       "    <tr>\n",
       "      <th>12</th>\n",
       "      <td>2008-09-01</td>\n",
       "      <td>2008-10-01</td>\n",
       "      <td>4132</td>\n",
       "      <td>7678</td>\n",
       "      <td>53.82</td>\n",
       "    </tr>\n",
       "    <tr>\n",
       "      <th>13</th>\n",
       "      <td>2008-09-01</td>\n",
       "      <td>2008-11-01</td>\n",
       "      <td>2966</td>\n",
       "      <td>7678</td>\n",
       "      <td>38.63</td>\n",
       "    </tr>\n",
       "    <tr>\n",
       "      <th>14</th>\n",
       "      <td>2008-09-01</td>\n",
       "      <td>2008-12-01</td>\n",
       "      <td>2500</td>\n",
       "      <td>7678</td>\n",
       "      <td>32.56</td>\n",
       "    </tr>\n",
       "    <tr>\n",
       "      <th>15</th>\n",
       "      <td>2008-10-01</td>\n",
       "      <td>2008-10-01</td>\n",
       "      <td>3629</td>\n",
       "      <td>3629</td>\n",
       "      <td>100.00</td>\n",
       "    </tr>\n",
       "    <tr>\n",
       "      <th>16</th>\n",
       "      <td>2008-10-01</td>\n",
       "      <td>2008-11-01</td>\n",
       "      <td>1640</td>\n",
       "      <td>3629</td>\n",
       "      <td>45.19</td>\n",
       "    </tr>\n",
       "    <tr>\n",
       "      <th>17</th>\n",
       "      <td>2008-10-01</td>\n",
       "      <td>2008-12-01</td>\n",
       "      <td>1221</td>\n",
       "      <td>3629</td>\n",
       "      <td>33.65</td>\n",
       "    </tr>\n",
       "    <tr>\n",
       "      <th>18</th>\n",
       "      <td>2008-11-01</td>\n",
       "      <td>2008-11-01</td>\n",
       "      <td>2852</td>\n",
       "      <td>2852</td>\n",
       "      <td>100.00</td>\n",
       "    </tr>\n",
       "    <tr>\n",
       "      <th>19</th>\n",
       "      <td>2008-11-01</td>\n",
       "      <td>2008-12-01</td>\n",
       "      <td>1151</td>\n",
       "      <td>2852</td>\n",
       "      <td>40.36</td>\n",
       "    </tr>\n",
       "    <tr>\n",
       "      <th>20</th>\n",
       "      <td>2008-12-01</td>\n",
       "      <td>2008-12-01</td>\n",
       "      <td>2536</td>\n",
       "      <td>2536</td>\n",
       "      <td>100.00</td>\n",
       "    </tr>\n",
       "  </tbody>\n",
       "</table>\n",
       "</div>"
      ],
      "text/plain": [
       "    cohort_dt session_date  users_cnt  cohort_users_cnt  retention_rate\n",
       "0  2008-07-01   2008-07-01          3                 3          100.00\n",
       "1  2008-07-01   2008-08-01          2                 3           66.67\n",
       "2  2008-07-01   2008-09-01          1                 3           33.33\n",
       "3  2008-07-01   2008-10-01          2                 3           66.67\n",
       "4  2008-07-01   2008-11-01          1                 3           33.33\n",
       "5  2008-07-01   2008-12-01          2                 3           66.67\n",
       "6  2008-08-01   2008-08-01       2151              2151          100.00\n",
       "7  2008-08-01   2008-09-01       1571              2151           73.04\n",
       "8  2008-08-01   2008-10-01       1275              2151           59.27\n",
       "9  2008-08-01   2008-11-01       1050              2151           48.81\n",
       "10 2008-08-01   2008-12-01        894              2151           41.56\n",
       "11 2008-09-01   2008-09-01       7678              7678          100.00\n",
       "12 2008-09-01   2008-10-01       4132              7678           53.82\n",
       "13 2008-09-01   2008-11-01       2966              7678           38.63\n",
       "14 2008-09-01   2008-12-01       2500              7678           32.56\n",
       "15 2008-10-01   2008-10-01       3629              3629          100.00\n",
       "16 2008-10-01   2008-11-01       1640              3629           45.19\n",
       "17 2008-10-01   2008-12-01       1221              3629           33.65\n",
       "18 2008-11-01   2008-11-01       2852              2852          100.00\n",
       "19 2008-11-01   2008-12-01       1151              2852           40.36\n",
       "20 2008-12-01   2008-12-01       2536              2536          100.00"
      ]
     },
     "metadata": {},
     "output_type": "display_data"
    }
   ],
   "source": [
    "# напишите запрос\n",
    "query = '''\n",
    "WITH users AS\n",
    "(SELECT\n",
    "    *,\n",
    "    COUNT(*) OVER (PARTITION BY dt) AS cohort_users_cnt\n",
    "FROM (SELECT\n",
    "        DISTINCT(post.user_id) AS uid,\n",
    "        FIRST_VALUE(DATE_TRUNC('month', post.creation_date)) OVER (PARTITION BY post.user_id ORDER BY post.creation_date) AS dt\n",
    "    FROM stackoverflow.posts AS post) AS subquery_1),\n",
    "sessions AS\n",
    "(SELECT\n",
    "    user_id,\n",
    "    DATE_TRUNC('month', creation_date)::date AS session_date\n",
    "FROM stackoverflow.posts\n",
    "GROUP BY 1,\n",
    "         2)\n",
    "         \n",
    "SELECT\n",
    "    u.dt AS cohort_dt,\n",
    "    session_date,\n",
    "    COUNT(u.uid) AS users_cnt,\n",
    "    cohort_users_cnt,\n",
    "    ROUND(COUNT(u.uid) * 100.0 / cohort_users_cnt, 2) AS retention_rate\n",
    "FROM users AS u\n",
    "JOIN sessions AS s ON s.user_id=u.uid\n",
    "GROUP BY 1,\n",
    "         2,\n",
    "         4\n",
    "    \n",
    "'''\n",
    "\n",
    "# выполните запрос\n",
    "question_8 = pd.read_sql_query(query, con=engine)\n",
    "display(question_8)"
   ]
  },
  {
   "cell_type": "markdown",
   "metadata": {
    "id": "_msBtnb2DWLC"
   },
   "source": [
    "Постройте тепловую карту Retention Rate. Какие аномалии или другие необычные явления удалось выявить? Сформулируйте гипотезы о возможных причинах."
   ]
  },
  {
   "cell_type": "code",
   "execution_count": 15,
   "metadata": {
    "id": "qAEJc8H1DWLC"
   },
   "outputs": [
    {
     "data": {
      "image/png": "[encoded data removed]",
      "text/plain": [
       "<Figure size 1600x1600 with 2 Axes>"
      ]
     },
     "metadata": {},
     "output_type": "display_data"
    }
   ],
   "source": [
    "# постройте тепловую карту Retention Rate\n",
    "\n",
    "# создаём сводную таблицу с результатами\n",
    "retention = question_8.pivot('cohort_dt', 'session_date', 'retention_rate')\n",
    "retention.index = [str(x)[0:10] for x in retention.index]\n",
    "retention.columns = [str(x)[0:10] for x in retention.columns]\n",
    "\n",
    "# строим хитмэп\n",
    "plt.figure(figsize=(16, 16)) \n",
    "sns.heatmap(retention,\n",
    "            annot=True,\n",
    "            fmt='')\n",
    "plt.title('Тепловая карта')\n",
    "plt.show() "
   ]
  },
  {
   "cell_type": "markdown",
   "metadata": {
    "id": "EgOfIsI4DWLC"
   },
   "source": [
    "опишите аномалии или другие необычные явления и сформулируйте гипотезы\n",
    "\n",
    "<b>Вывод</b>\n",
    "\n",
    "1. Первую когорту, у которых первая публикация была в июле, составляют всего 3 человека, т.е. очень малую выборку, и рассматривать её не имеет большого смысла.\n",
    "2. Если рассматривать по когортам, то можно заметить, что в каждой когорте коэффициент удержания падает, что естественно при отстутвии каких-нибудь стимулирующих мероприятий, цель которых вернуть ушедших с сайта пользователей. Однако у первой большой когорты (от августа) этот коэффициент падает медленнее, чем у остальных. Это может быть связано с тем, что большую часть этой когорты составляли заинтересованные в успехе сайта пользователи(тестировщики, знакомые разработчиков и т.п.), либо с тем, что у пришедших на сайт первыми больше желания проявлять активность, тем самым продвигая ресурс, потому что они знают его \"с самого зарождения\" и хотят играть роль в развитии сайта.\n",
    "3. Если сравнивать когорты между собой, то можно заметить, что каждый последующий месяц коэффициент удержания у новых когорт ниже, чем у когорт постарше, что также говорит об отсутствии мероприятий, направленных на удержание пользователей. Причём, учитывая численные данные из таблицы, этот коэффициент не зависит от количества или роста/падения количества пользователей, только от даты, это подтверждает гипотезу о том, что на старте было много пользователей в связи с большим интересом к новому продукту, но со временем этот интерес всё больше падал."
   ]
  },
  {
   "cell_type": "markdown",
   "metadata": {
    "id": "1k7oPWt5DWLK"
   },
   "source": [
    "# Задание 9 ✔"
   ]
  },
  {
   "cell_type": "markdown",
   "metadata": {
    "id": "ALsYVSyRDWLM"
   },
   "source": [
    "На сколько процентов менялось количество постов ежемесячно с 1 сентября по 31 декабря 2008 года? Отобразите таблицу со следующими полями:\n",
    "\n",
    "- номер месяца;\n",
    "- количество постов за месяц;\n",
    "- процент, который показывает, насколько изменилось количество постов в текущем месяце по сравнению с предыдущим.\n",
    "\n",
    "Если постов стало меньше, значение процента должно быть отрицательным, если больше — положительным. Округлите значение процента до двух знаков после запятой.\n"
   ]
  },
  {
   "cell_type": "markdown",
   "metadata": {
    "id": "u4E2zF8DDWLM"
   },
   "source": [
    "| creation_month | posts_count | percentage |\n",
    "| -------------- | ----------- | ---------- |\n",
    "| 9 | 70731 | Nan |\n",
    "| 10 | 63102 | -10.33 |\n",
    "| ... | ... | ... |"
   ]
  },
  {
   "cell_type": "code",
   "execution_count": 16,
   "metadata": {
    "id": "Mb5pShStDWLN"
   },
   "outputs": [
    {
     "data": {
      "text/html": [
       "<div>\n",
       "<style scoped>\n",
       "    .dataframe tbody tr th:only-of-type {\n",
       "        vertical-align: middle;\n",
       "    }\n",
       "\n",
       "    .dataframe tbody tr th {\n",
       "        vertical-align: top;\n",
       "    }\n",
       "\n",
       "    .dataframe thead th {\n",
       "        text-align: right;\n",
       "    }\n",
       "</style>\n",
       "<table border=\"1\" class=\"dataframe\">\n",
       "  <thead>\n",
       "    <tr style=\"text-align: right;\">\n",
       "      <th></th>\n",
       "      <th>creation_month</th>\n",
       "      <th>posts_count</th>\n",
       "      <th>round</th>\n",
       "    </tr>\n",
       "  </thead>\n",
       "  <tbody>\n",
       "    <tr>\n",
       "      <th>0</th>\n",
       "      <td>2008-09-01</td>\n",
       "      <td>70371</td>\n",
       "      <td>NaN</td>\n",
       "    </tr>\n",
       "    <tr>\n",
       "      <th>1</th>\n",
       "      <td>2008-10-01</td>\n",
       "      <td>63102</td>\n",
       "      <td>-10.33</td>\n",
       "    </tr>\n",
       "    <tr>\n",
       "      <th>2</th>\n",
       "      <td>2008-11-01</td>\n",
       "      <td>46975</td>\n",
       "      <td>-25.56</td>\n",
       "    </tr>\n",
       "    <tr>\n",
       "      <th>3</th>\n",
       "      <td>2008-12-01</td>\n",
       "      <td>44592</td>\n",
       "      <td>-5.07</td>\n",
       "    </tr>\n",
       "  </tbody>\n",
       "</table>\n",
       "</div>"
      ],
      "text/plain": [
       "  creation_month  posts_count  round\n",
       "0     2008-09-01        70371    NaN\n",
       "1     2008-10-01        63102 -10.33\n",
       "2     2008-11-01        46975 -25.56\n",
       "3     2008-12-01        44592  -5.07"
      ]
     },
     "metadata": {},
     "output_type": "display_data"
    }
   ],
   "source": [
    "# напишите запрос\n",
    "query = '''\n",
    "WITH table_1 AS \n",
    "(SELECT\n",
    "    DISTINCT(DATE_TRUNC('month', post.creation_date)) AS creation_month,\n",
    "    COUNT(post.id) OVER (PARTITION BY DATE_TRUNC('month', post.creation_date)) AS posts_count\n",
    "FROM stackoverflow.posts AS post\n",
    "WHERE post.creation_date BETWEEN '2008-09-01' AND '2009-01-01')\n",
    "\n",
    "SELECT\n",
    "    *,\n",
    "    ROUND((posts_count - LAG(posts_count, 1) OVER (ORDER BY creation_month)::numeric)/LAG(posts_count) OVER (ORDER BY creation_month)*100,2)\n",
    "FROM table_1\n",
    "'''\n",
    "\n",
    "# выполните запрос\n",
    "question_9 = pd.read_sql_query(query, con=engine)\n",
    "display(question_9)"
   ]
  },
  {
   "cell_type": "markdown",
   "metadata": {
    "id": "9NQE2y_MDWLP"
   },
   "source": [
    "Постройте круговую диаграмму с количеством постов по месяцам."
   ]
  },
  {
   "cell_type": "code",
   "execution_count": 17,
   "metadata": {
    "id": "377ABjiVDWLP"
   },
   "outputs": [
    {
     "data": {
      "image/png": "[encoded data removed]",
      "text/plain": [
       "<Figure size 2000x600 with 1 Axes>"
      ]
     },
     "metadata": {},
     "output_type": "display_data"
    }
   ],
   "source": [
    "# постройте круговую диаграмму с количеством постов по месяцам\n",
    "\n",
    "fig, ax = plt.subplots()\n",
    "\n",
    "ax.pie(question_9['posts_count'], labels=question_9['creation_month'])\n",
    "fig.set_figwidth(20)\n",
    "fig.set_figheight(6)\n",
    "\n",
    "plt.show()"
   ]
  },
  {
   "cell_type": "markdown",
   "metadata": {
    "id": "uw7qMtafDWLP"
   },
   "source": [
    "# Задание 10 ✔"
   ]
  },
  {
   "cell_type": "markdown",
   "metadata": {
    "id": "oRBpWKx3DWLQ"
   },
   "source": [
    "Выгрузите данные активности пользователя, который опубликовал больше всего постов за всё время. Выведите данные за октябрь 2008 года в таком виде:\n",
    "\n",
    "- номер недели;\n",
    "- дата и время последнего поста, опубликованного на этой неделе."
   ]
  },
  {
   "cell_type": "markdown",
   "metadata": {
    "id": "XjAWSn_3DWLQ"
   },
   "source": [
    "| week_creation | creation_date |\n",
    "| ------------- | ------------- |\n",
    "| 40 | 2008-10-05 09:00:58 |\n",
    "| 41 | 2008-10-12 21:22:23 |\n",
    "| ... | ... |"
   ]
  },
  {
   "cell_type": "code",
   "execution_count": 18,
   "metadata": {
    "id": "r5F5fSkwDWLQ"
   },
   "outputs": [
    {
     "data": {
      "text/html": [
       "<div>\n",
       "<style scoped>\n",
       "    .dataframe tbody tr th:only-of-type {\n",
       "        vertical-align: middle;\n",
       "    }\n",
       "\n",
       "    .dataframe tbody tr th {\n",
       "        vertical-align: top;\n",
       "    }\n",
       "\n",
       "    .dataframe thead th {\n",
       "        text-align: right;\n",
       "    }\n",
       "</style>\n",
       "<table border=\"1\" class=\"dataframe\">\n",
       "  <thead>\n",
       "    <tr style=\"text-align: right;\">\n",
       "      <th></th>\n",
       "      <th>week_number</th>\n",
       "      <th>dt</th>\n",
       "    </tr>\n",
       "  </thead>\n",
       "  <tbody>\n",
       "    <tr>\n",
       "      <th>0</th>\n",
       "      <td>40.0</td>\n",
       "      <td>2008-10-05 09:00:58</td>\n",
       "    </tr>\n",
       "    <tr>\n",
       "      <th>1</th>\n",
       "      <td>41.0</td>\n",
       "      <td>2008-10-12 21:22:23</td>\n",
       "    </tr>\n",
       "    <tr>\n",
       "      <th>2</th>\n",
       "      <td>42.0</td>\n",
       "      <td>2008-10-19 06:49:30</td>\n",
       "    </tr>\n",
       "    <tr>\n",
       "      <th>3</th>\n",
       "      <td>43.0</td>\n",
       "      <td>2008-10-26 21:44:36</td>\n",
       "    </tr>\n",
       "    <tr>\n",
       "      <th>4</th>\n",
       "      <td>44.0</td>\n",
       "      <td>2008-10-31 22:16:01</td>\n",
       "    </tr>\n",
       "  </tbody>\n",
       "</table>\n",
       "</div>"
      ],
      "text/plain": [
       "   week_number                  dt\n",
       "0         40.0 2008-10-05 09:00:58\n",
       "1         41.0 2008-10-12 21:22:23\n",
       "2         42.0 2008-10-19 06:49:30\n",
       "3         43.0 2008-10-26 21:44:36\n",
       "4         44.0 2008-10-31 22:16:01"
      ]
     },
     "metadata": {},
     "output_type": "display_data"
    }
   ],
   "source": [
    "# напишите запрос\n",
    "query = '''\n",
    "WITH table_1 AS \n",
    "(SELECT\n",
    "    post.creation_date,\n",
    "    EXTRACT(WEEK FROM CAST(post.creation_date AS timestamp)) AS week_number\n",
    "FROM stackoverflow.posts AS post\n",
    "WHERE post.user_id IN (SELECT\n",
    "                            post.user_id\n",
    "                        FROM stackoverflow.posts AS post\n",
    "                        ORDER BY COUNT(post.id) OVER (PARTITION BY post.user_id) DESC\n",
    "                        LIMIT 1)\n",
    "AND post.creation_date BETWEEN '2008-10-01' AND '2008-11-01')\n",
    "\n",
    "SELECT\n",
    "    DISTINCT(week_number),\n",
    "    LAST_VALUE(creation_date) OVER (PARTITION BY week_number) AS dt\n",
    "FROM table_1\n",
    "ORDER BY dt\n",
    "'''\n",
    "\n",
    "# выполните запрос\n",
    "question_10 = pd.read_sql_query(query, con=engine)\n",
    "display(question_10)"
   ]
  },
  {
   "cell_type": "markdown",
   "metadata": {},
   "source": [
    "# Вывод"
   ]
  },
  {
   "cell_type": "markdown",
   "metadata": {},
   "source": [
    "Выгружены различные данные из базы данных \n",
    "\n",
    "В предоставленной базе имеются данные за первые полгода работа сайта stackoverflow, с июля по декабрь 2008 года. За этот период было создано около 225 тыс. постов, больше всего постов было создано в октябре, 70 тыс. Наименьшее количество просмотров было на постах от июля - ~670 тыс., наибольшее - в сентябре, ~452 млн. \n",
    "\n",
    "За рассматриваемый период наблюдается стабильное падение коэффициента удержания - новые пользователи задерживаются на сайте всё меньше, старые пользователи уходят. (задание 8)\n",
    "\n",
    "Также найдено многократное повторение отображаемого имени - например, Chris и Matt повторяются около 30 раз и это только среди активных пользователей. (задание 2)\n",
    "\n",
    "В целом, в июле 2008 года stackoverflow только начинал свою деятельность, отсюда большой рост популярности в начале, но с каждым месяцем интерес пользователей падал. Это прослеживается как по падению коэффициента удержания (задание 8), так и по уменьшению количества создаваемых постов (задание 9)."
   ]
  }
 ],
 "metadata": {
  "ExecuteTimeLog": [
   {
    "duration": 917,
    "start_time": "2022-09-24T05:20:01.466Z"
   },
   {
    "duration": 3,
    "start_time": "2022-09-24T05:20:03.046Z"
   },
   {
    "duration": 6558,
    "start_time": "2022-09-24T05:20:04.323Z"
   },
   {
    "duration": 213,
    "start_time": "2022-09-24T05:20:10.883Z"
   },
   {
    "duration": 16,
    "start_time": "2022-09-24T05:20:13.105Z"
   },
   {
    "duration": 933,
    "start_time": "2022-09-24T05:26:07.678Z"
   },
   {
    "duration": 251,
    "start_time": "2022-09-24T05:26:20.023Z"
   },
   {
    "duration": 245,
    "start_time": "2022-09-24T05:26:25.682Z"
   },
   {
    "duration": 167,
    "start_time": "2022-09-24T07:23:24.966Z"
   },
   {
    "duration": 126,
    "start_time": "2022-09-24T07:23:35.959Z"
   },
   {
    "duration": 165,
    "start_time": "2022-09-24T07:24:33.704Z"
   },
   {
    "duration": 701,
    "start_time": "2022-09-24T07:24:43.882Z"
   },
   {
    "duration": 807,
    "start_time": "2022-09-24T07:25:02.383Z"
   },
   {
    "duration": 139,
    "start_time": "2022-09-24T07:26:18.034Z"
   },
   {
    "duration": 107,
    "start_time": "2022-09-24T07:32:16.609Z"
   },
   {
    "duration": 732,
    "start_time": "2022-09-24T09:21:38.590Z"
   },
   {
    "duration": 828,
    "start_time": "2022-09-24T09:25:40.636Z"
   },
   {
    "duration": 362,
    "start_time": "2022-09-24T09:26:21.177Z"
   },
   {
    "duration": 381,
    "start_time": "2022-09-24T09:27:10.860Z"
   },
   {
    "duration": 135,
    "start_time": "2022-09-24T09:29:16.454Z"
   },
   {
    "duration": 103,
    "start_time": "2022-09-24T09:29:43.194Z"
   },
   {
    "duration": 787,
    "start_time": "2022-09-24T20:08:46.338Z"
   },
   {
    "duration": 3,
    "start_time": "2022-09-24T20:08:47.127Z"
   },
   {
    "duration": 6205,
    "start_time": "2022-09-24T20:08:47.402Z"
   },
   {
    "duration": 214,
    "start_time": "2022-09-24T20:08:53.609Z"
   },
   {
    "duration": 12,
    "start_time": "2022-09-24T20:08:53.825Z"
   },
   {
    "duration": 262,
    "start_time": "2022-09-24T20:08:53.839Z"
   },
   {
    "duration": 2,
    "start_time": "2022-09-24T20:08:54.103Z"
   },
   {
    "duration": 570,
    "start_time": "2022-09-24T20:11:34.222Z"
   },
   {
    "duration": 345,
    "start_time": "2022-09-24T20:12:04.556Z"
   },
   {
    "duration": 374,
    "start_time": "2022-09-24T20:12:54.934Z"
   },
   {
    "duration": 387,
    "start_time": "2022-09-24T20:15:36.294Z"
   },
   {
    "duration": 158,
    "start_time": "2022-09-24T20:17:35.110Z"
   },
   {
    "duration": 131,
    "start_time": "2022-09-24T20:19:54.479Z"
   },
   {
    "duration": 103,
    "start_time": "2022-09-24T20:21:05.343Z"
   },
   {
    "duration": 126,
    "start_time": "2022-09-24T20:25:51.189Z"
   },
   {
    "duration": 227,
    "start_time": "2022-09-24T20:28:03.613Z"
   },
   {
    "duration": 95,
    "start_time": "2022-09-24T20:28:28.303Z"
   },
   {
    "duration": 417,
    "start_time": "2022-09-24T20:29:28.118Z"
   },
   {
    "duration": 446,
    "start_time": "2022-09-24T20:30:42.915Z"
   },
   {
    "duration": 129,
    "start_time": "2022-09-24T20:31:05.702Z"
   },
   {
    "duration": 377,
    "start_time": "2022-09-24T20:31:33.614Z"
   },
   {
    "duration": 384,
    "start_time": "2022-09-24T20:33:26.550Z"
   },
   {
    "duration": 111,
    "start_time": "2022-09-24T20:34:23.702Z"
   },
   {
    "duration": 390,
    "start_time": "2022-09-24T20:34:33.127Z"
   },
   {
    "duration": 422,
    "start_time": "2022-09-24T20:37:44.206Z"
   },
   {
    "duration": 382,
    "start_time": "2022-09-24T20:38:53.934Z"
   },
   {
    "duration": 445,
    "start_time": "2022-09-24T20:39:18.086Z"
   },
   {
    "duration": 334,
    "start_time": "2022-09-24T20:39:29.382Z"
   },
   {
    "duration": 386,
    "start_time": "2022-09-24T20:39:42.038Z"
   },
   {
    "duration": 557,
    "start_time": "2022-09-24T20:40:30.590Z"
   },
   {
    "duration": 389,
    "start_time": "2022-09-24T20:40:39.718Z"
   },
   {
    "duration": 109,
    "start_time": "2022-09-24T20:42:01.031Z"
   },
   {
    "duration": 101,
    "start_time": "2022-09-24T20:42:19.263Z"
   },
   {
    "duration": 206,
    "start_time": "2022-09-24T20:42:25.871Z"
   },
   {
    "duration": 908,
    "start_time": "2022-09-24T20:42:53.231Z"
   },
   {
    "duration": 872,
    "start_time": "2022-09-24T20:43:23.613Z"
   },
   {
    "duration": 681,
    "start_time": "2022-09-24T20:43:41.182Z"
   },
   {
    "duration": 233,
    "start_time": "2022-09-24T20:44:25.398Z"
   },
   {
    "duration": 104,
    "start_time": "2022-09-24T20:46:37.918Z"
   },
   {
    "duration": 2751,
    "start_time": "2022-09-24T20:47:01.183Z"
   },
   {
    "duration": 308,
    "start_time": "2022-09-24T20:48:14.943Z"
   },
   {
    "duration": 343,
    "start_time": "2022-09-24T20:48:38.439Z"
   },
   {
    "duration": 100,
    "start_time": "2022-09-24T20:49:09.159Z"
   },
   {
    "duration": 380,
    "start_time": "2022-09-24T20:49:20.463Z"
   },
   {
    "duration": 430,
    "start_time": "2022-09-24T20:49:35.062Z"
   },
   {
    "duration": 418,
    "start_time": "2022-09-24T20:49:44.567Z"
   },
   {
    "duration": 322,
    "start_time": "2022-09-24T20:49:53.503Z"
   },
   {
    "duration": 232,
    "start_time": "2022-09-24T20:51:17.152Z"
   },
   {
    "duration": 373,
    "start_time": "2022-09-24T20:51:43.920Z"
   },
   {
    "duration": 281,
    "start_time": "2022-09-24T20:51:52.743Z"
   },
   {
    "duration": 230,
    "start_time": "2022-09-24T20:52:08.375Z"
   },
   {
    "duration": 225,
    "start_time": "2022-09-24T20:52:36.255Z"
   },
   {
    "duration": 218,
    "start_time": "2022-09-24T21:23:12.644Z"
   },
   {
    "duration": 11,
    "start_time": "2022-09-24T21:23:30.886Z"
   },
   {
    "duration": 11,
    "start_time": "2022-09-24T21:24:53.308Z"
   },
   {
    "duration": 116,
    "start_time": "2022-09-24T21:25:21.532Z"
   },
   {
    "duration": 8,
    "start_time": "2022-09-24T21:25:44.060Z"
   },
   {
    "duration": 12,
    "start_time": "2022-09-24T21:25:51.229Z"
   },
   {
    "duration": 94,
    "start_time": "2022-09-24T21:26:08.070Z"
   },
   {
    "duration": 89,
    "start_time": "2022-09-24T21:26:40.956Z"
   },
   {
    "duration": 113,
    "start_time": "2022-09-24T21:27:30.412Z"
   },
   {
    "duration": 148,
    "start_time": "2022-09-24T21:27:37.965Z"
   },
   {
    "duration": 861,
    "start_time": "2022-09-25T04:23:08.854Z"
   },
   {
    "duration": 4,
    "start_time": "2022-09-25T04:23:10.310Z"
   },
   {
    "duration": 5702,
    "start_time": "2022-09-25T04:23:10.968Z"
   },
   {
    "duration": 228,
    "start_time": "2022-09-25T04:23:16.672Z"
   },
   {
    "duration": 14,
    "start_time": "2022-09-25T04:23:16.901Z"
   },
   {
    "duration": 261,
    "start_time": "2022-09-25T04:23:16.917Z"
   },
   {
    "duration": 156,
    "start_time": "2022-09-25T04:23:17.180Z"
   },
   {
    "duration": 221,
    "start_time": "2022-09-25T04:23:17.533Z"
   },
   {
    "duration": 48,
    "start_time": "2022-09-26T08:33:07.925Z"
   },
   {
    "duration": 988,
    "start_time": "2022-09-26T08:33:13.908Z"
   },
   {
    "duration": 4,
    "start_time": "2022-09-26T08:33:14.898Z"
   },
   {
    "duration": 9259,
    "start_time": "2022-09-26T08:33:14.904Z"
   },
   {
    "duration": 64,
    "start_time": "2022-09-26T08:33:24.166Z"
   },
   {
    "duration": 20,
    "start_time": "2022-09-26T08:33:24.233Z"
   },
   {
    "duration": 231,
    "start_time": "2022-09-26T08:33:24.255Z"
   },
   {
    "duration": 174,
    "start_time": "2022-09-26T08:33:24.488Z"
   },
   {
    "duration": 196,
    "start_time": "2022-09-26T08:33:24.664Z"
   },
   {
    "duration": 3,
    "start_time": "2022-09-26T08:33:24.862Z"
   },
   {
    "duration": 7231,
    "start_time": "2022-09-26T08:33:24.867Z"
   },
   {
    "duration": 1852,
    "start_time": "2022-09-26T08:33:46.686Z"
   },
   {
    "duration": 190,
    "start_time": "2022-09-26T08:35:39.070Z"
   },
   {
    "duration": 162,
    "start_time": "2022-09-26T08:36:11.413Z"
   },
   {
    "duration": 194,
    "start_time": "2022-09-26T08:36:16.126Z"
   },
   {
    "duration": 1112,
    "start_time": "2022-09-26T08:52:04.491Z"
   },
   {
    "duration": 1220,
    "start_time": "2022-09-26T08:52:43.515Z"
   },
   {
    "duration": 1452,
    "start_time": "2022-09-26T08:53:16.981Z"
   },
   {
    "duration": 1166,
    "start_time": "2022-09-26T08:53:35.189Z"
   },
   {
    "duration": 1198,
    "start_time": "2022-09-26T09:00:58.572Z"
   },
   {
    "duration": 1268,
    "start_time": "2022-09-26T09:01:16.756Z"
   },
   {
    "duration": 1172,
    "start_time": "2022-09-26T09:01:26.053Z"
   },
   {
    "duration": 1134,
    "start_time": "2022-09-26T09:01:36.046Z"
   },
   {
    "duration": 1278,
    "start_time": "2022-09-26T09:01:42.365Z"
   },
   {
    "duration": 3,
    "start_time": "2022-09-26T12:36:24.785Z"
   },
   {
    "duration": 3,
    "start_time": "2022-09-26T12:36:25.282Z"
   },
   {
    "duration": 3,
    "start_time": "2022-09-26T12:36:25.927Z"
   },
   {
    "duration": 60,
    "start_time": "2022-09-26T12:36:26.350Z"
   },
   {
    "duration": 12,
    "start_time": "2022-09-26T12:36:26.541Z"
   },
   {
    "duration": 250,
    "start_time": "2022-09-26T12:36:27.390Z"
   },
   {
    "duration": 180,
    "start_time": "2022-09-26T12:36:28.150Z"
   },
   {
    "duration": 179,
    "start_time": "2022-09-26T12:36:28.332Z"
   },
   {
    "duration": 2,
    "start_time": "2022-09-26T12:36:29.441Z"
   },
   {
    "duration": 214,
    "start_time": "2022-09-26T12:36:30.510Z"
   },
   {
    "duration": 2,
    "start_time": "2022-09-26T12:36:32.101Z"
   },
   {
    "duration": 1049,
    "start_time": "2022-09-26T12:36:39.755Z"
   },
   {
    "duration": 3,
    "start_time": "2022-09-26T12:59:07.627Z"
   },
   {
    "duration": 143,
    "start_time": "2022-09-26T12:59:23.731Z"
   },
   {
    "duration": 79,
    "start_time": "2022-09-26T12:59:47.390Z"
   },
   {
    "duration": 208,
    "start_time": "2022-09-26T13:07:01.816Z"
   },
   {
    "duration": 100,
    "start_time": "2022-09-26T13:08:05.655Z"
   },
   {
    "duration": 100,
    "start_time": "2022-09-26T13:08:15.024Z"
   },
   {
    "duration": 162,
    "start_time": "2022-09-26T13:11:02.015Z"
   },
   {
    "duration": 166,
    "start_time": "2022-09-26T13:11:13.181Z"
   },
   {
    "duration": 8,
    "start_time": "2022-09-26T13:24:58.540Z"
   },
   {
    "duration": 44,
    "start_time": "2022-09-26T13:24:59.133Z"
   },
   {
    "duration": 0,
    "start_time": "2022-09-26T13:24:59.179Z"
   },
   {
    "duration": 6,
    "start_time": "2022-09-26T13:24:59.185Z"
   },
   {
    "duration": 7,
    "start_time": "2022-09-26T13:24:59.338Z"
   },
   {
    "duration": 7,
    "start_time": "2022-09-26T13:24:59.868Z"
   },
   {
    "duration": 914,
    "start_time": "2022-09-26T13:25:03.870Z"
   },
   {
    "duration": 9,
    "start_time": "2022-09-26T13:25:04.787Z"
   },
   {
    "duration": 8971,
    "start_time": "2022-09-26T13:25:04.797Z"
   },
   {
    "duration": 54,
    "start_time": "2022-09-26T13:25:13.770Z"
   },
   {
    "duration": 15,
    "start_time": "2022-09-26T13:25:13.826Z"
   },
   {
    "duration": 257,
    "start_time": "2022-09-26T13:25:13.843Z"
   },
   {
    "duration": 178,
    "start_time": "2022-09-26T13:25:14.102Z"
   },
   {
    "duration": 259,
    "start_time": "2022-09-26T13:25:14.282Z"
   },
   {
    "duration": 2,
    "start_time": "2022-09-26T13:25:14.543Z"
   },
   {
    "duration": 234,
    "start_time": "2022-09-26T13:25:14.548Z"
   },
   {
    "duration": 3,
    "start_time": "2022-09-26T13:25:14.784Z"
   },
   {
    "duration": 1289,
    "start_time": "2022-09-26T13:25:14.789Z"
   },
   {
    "duration": 113,
    "start_time": "2022-09-26T13:25:20.030Z"
   },
   {
    "duration": 131,
    "start_time": "2022-09-26T13:32:30.962Z"
   },
   {
    "duration": 142,
    "start_time": "2022-09-26T13:32:55.656Z"
   },
   {
    "duration": 117,
    "start_time": "2022-09-26T13:33:15.114Z"
   },
   {
    "duration": 162,
    "start_time": "2022-09-26T13:33:33.789Z"
   },
   {
    "duration": 110,
    "start_time": "2022-09-26T13:35:28.160Z"
   },
   {
    "duration": 391,
    "start_time": "2022-09-26T13:35:52.793Z"
   },
   {
    "duration": 161,
    "start_time": "2022-09-26T13:38:57.522Z"
   },
   {
    "duration": 116,
    "start_time": "2022-09-26T13:41:02.930Z"
   },
   {
    "duration": 115,
    "start_time": "2022-09-26T13:41:13.109Z"
   },
   {
    "duration": 175,
    "start_time": "2022-09-26T13:41:21.771Z"
   },
   {
    "duration": 154,
    "start_time": "2022-09-26T13:43:24.153Z"
   },
   {
    "duration": 208,
    "start_time": "2022-09-26T13:43:36.880Z"
   },
   {
    "duration": 108,
    "start_time": "2022-09-26T13:43:53.850Z"
   },
   {
    "duration": 471,
    "start_time": "2022-09-26T13:44:21.324Z"
   },
   {
    "duration": 113,
    "start_time": "2022-09-26T13:44:44.950Z"
   },
   {
    "duration": 153,
    "start_time": "2022-09-26T13:46:55.706Z"
   },
   {
    "duration": 159,
    "start_time": "2022-09-26T13:47:12.006Z"
   },
   {
    "duration": 151,
    "start_time": "2022-09-26T13:47:27.570Z"
   },
   {
    "duration": 80,
    "start_time": "2022-09-26T13:47:37.781Z"
   },
   {
    "duration": 145,
    "start_time": "2022-09-26T13:48:12.758Z"
   },
   {
    "duration": 85,
    "start_time": "2022-09-26T13:54:46.176Z"
   },
   {
    "duration": 66,
    "start_time": "2022-09-26T13:55:48.728Z"
   },
   {
    "duration": 65,
    "start_time": "2022-09-26T13:56:02.064Z"
   },
   {
    "duration": 99,
    "start_time": "2022-09-26T13:59:19.257Z"
   },
   {
    "duration": 95,
    "start_time": "2022-09-26T13:59:24.475Z"
   },
   {
    "duration": 127,
    "start_time": "2022-09-26T14:05:13.915Z"
   },
   {
    "duration": 889,
    "start_time": "2022-09-27T05:39:31.132Z"
   },
   {
    "duration": 4,
    "start_time": "2022-09-27T05:39:32.022Z"
   },
   {
    "duration": 7198,
    "start_time": "2022-09-27T05:39:32.388Z"
   },
   {
    "duration": 235,
    "start_time": "2022-09-27T05:39:39.588Z"
   },
   {
    "duration": 15,
    "start_time": "2022-09-27T05:39:39.824Z"
   },
   {
    "duration": 300,
    "start_time": "2022-09-27T05:39:39.841Z"
   },
   {
    "duration": 157,
    "start_time": "2022-09-27T05:39:40.143Z"
   },
   {
    "duration": 248,
    "start_time": "2022-09-27T05:39:40.302Z"
   },
   {
    "duration": 2,
    "start_time": "2022-09-27T05:39:40.551Z"
   },
   {
    "duration": 270,
    "start_time": "2022-09-27T05:39:40.555Z"
   },
   {
    "duration": 2,
    "start_time": "2022-09-27T05:39:40.827Z"
   },
   {
    "duration": 1258,
    "start_time": "2022-09-27T05:39:40.831Z"
   },
   {
    "duration": 184,
    "start_time": "2022-09-27T05:54:46.330Z"
   },
   {
    "duration": 834,
    "start_time": "2022-09-27T14:45:24.838Z"
   },
   {
    "duration": 3,
    "start_time": "2022-09-27T14:45:25.674Z"
   },
   {
    "duration": 6042,
    "start_time": "2022-09-27T14:45:25.679Z"
   },
   {
    "duration": 231,
    "start_time": "2022-09-27T14:45:31.723Z"
   },
   {
    "duration": 19,
    "start_time": "2022-09-27T14:45:31.957Z"
   },
   {
    "duration": 287,
    "start_time": "2022-09-27T14:45:31.978Z"
   },
   {
    "duration": 160,
    "start_time": "2022-09-27T14:45:32.266Z"
   },
   {
    "duration": 230,
    "start_time": "2022-09-27T14:45:32.427Z"
   },
   {
    "duration": 3,
    "start_time": "2022-09-27T14:45:32.659Z"
   },
   {
    "duration": 273,
    "start_time": "2022-09-27T14:45:32.664Z"
   },
   {
    "duration": 2,
    "start_time": "2022-09-27T14:45:32.939Z"
   },
   {
    "duration": 1192,
    "start_time": "2022-09-27T14:45:32.943Z"
   },
   {
    "duration": 245,
    "start_time": "2022-09-27T15:07:16.035Z"
   },
   {
    "duration": 132,
    "start_time": "2022-09-27T15:10:11.762Z"
   },
   {
    "duration": 136,
    "start_time": "2022-09-27T15:10:18.747Z"
   },
   {
    "duration": 129,
    "start_time": "2022-09-27T15:11:29.418Z"
   },
   {
    "duration": 128,
    "start_time": "2022-09-27T15:11:55.171Z"
   },
   {
    "duration": 79,
    "start_time": "2022-09-27T15:13:14.867Z"
   },
   {
    "duration": 77,
    "start_time": "2022-09-27T15:14:14.811Z"
   },
   {
    "duration": 79,
    "start_time": "2022-09-27T15:14:42.851Z"
   },
   {
    "duration": 609,
    "start_time": "2022-09-27T15:53:09.794Z"
   },
   {
    "duration": 117,
    "start_time": "2022-09-27T16:06:14.683Z"
   },
   {
    "duration": 112,
    "start_time": "2022-09-27T16:47:16.160Z"
   },
   {
    "duration": 110,
    "start_time": "2022-09-27T16:47:30.490Z"
   },
   {
    "duration": 72,
    "start_time": "2022-09-27T16:50:38.068Z"
   },
   {
    "duration": 127,
    "start_time": "2022-09-27T16:50:51.429Z"
   },
   {
    "duration": 72,
    "start_time": "2022-09-27T16:50:58.649Z"
   },
   {
    "duration": 98,
    "start_time": "2022-09-27T16:51:23.115Z"
   },
   {
    "duration": 74,
    "start_time": "2022-09-27T16:52:08.805Z"
   },
   {
    "duration": 118,
    "start_time": "2022-09-27T16:54:43.995Z"
   },
   {
    "duration": 108,
    "start_time": "2022-09-27T16:54:52.707Z"
   },
   {
    "duration": 98,
    "start_time": "2022-09-27T16:55:00.587Z"
   },
   {
    "duration": 97,
    "start_time": "2022-09-27T16:55:08.635Z"
   },
   {
    "duration": 126,
    "start_time": "2022-09-27T16:56:26.597Z"
   },
   {
    "duration": 104,
    "start_time": "2022-09-27T16:57:00.437Z"
   },
   {
    "duration": 98,
    "start_time": "2022-09-27T17:07:15.502Z"
   },
   {
    "duration": 109,
    "start_time": "2022-09-27T17:07:37.922Z"
   },
   {
    "duration": 108,
    "start_time": "2022-09-27T17:07:49.815Z"
   },
   {
    "duration": 154,
    "start_time": "2022-09-27T17:07:52.781Z"
   },
   {
    "duration": 106,
    "start_time": "2022-09-27T17:08:04.863Z"
   },
   {
    "duration": 118,
    "start_time": "2022-09-27T17:10:15.869Z"
   },
   {
    "duration": 97,
    "start_time": "2022-09-27T17:22:36.277Z"
   },
   {
    "duration": 105,
    "start_time": "2022-09-27T17:24:05.508Z"
   },
   {
    "duration": 113,
    "start_time": "2022-09-27T17:25:51.918Z"
   },
   {
    "duration": 122,
    "start_time": "2022-09-27T17:26:05.014Z"
   },
   {
    "duration": 109,
    "start_time": "2022-09-27T17:45:28.167Z"
   },
   {
    "duration": 120,
    "start_time": "2022-09-27T17:45:53.520Z"
   },
   {
    "duration": 824,
    "start_time": "2022-09-27T17:46:07.680Z"
   },
   {
    "duration": 128,
    "start_time": "2022-09-27T17:46:52.543Z"
   },
   {
    "duration": 107,
    "start_time": "2022-09-27T17:47:04.525Z"
   },
   {
    "duration": 153,
    "start_time": "2022-09-27T17:47:48.654Z"
   },
   {
    "duration": 77,
    "start_time": "2022-09-27T17:48:27.061Z"
   },
   {
    "duration": 74,
    "start_time": "2022-09-27T17:48:53.189Z"
   },
   {
    "duration": 401,
    "start_time": "2022-09-27T19:13:54.361Z"
   },
   {
    "duration": 1249,
    "start_time": "2022-09-27T19:13:57.609Z"
   },
   {
    "duration": 158,
    "start_time": "2022-09-27T20:00:51.592Z"
   },
   {
    "duration": 1195,
    "start_time": "2022-09-27T20:02:04.290Z"
   },
   {
    "duration": 1107,
    "start_time": "2022-09-27T20:02:31.561Z"
   },
   {
    "duration": 1168,
    "start_time": "2022-09-27T20:02:39.305Z"
   },
   {
    "duration": 938,
    "start_time": "2022-09-28T08:52:07.205Z"
   },
   {
    "duration": 4,
    "start_time": "2022-09-28T08:52:08.145Z"
   },
   {
    "duration": 8804,
    "start_time": "2022-09-28T08:52:08.150Z"
   },
   {
    "duration": 55,
    "start_time": "2022-09-28T08:52:16.956Z"
   },
   {
    "duration": 16,
    "start_time": "2022-09-28T08:52:17.012Z"
   },
   {
    "duration": 314,
    "start_time": "2022-09-28T08:52:17.030Z"
   },
   {
    "duration": 175,
    "start_time": "2022-09-28T08:52:17.346Z"
   },
   {
    "duration": 228,
    "start_time": "2022-09-28T08:52:17.524Z"
   },
   {
    "duration": 2,
    "start_time": "2022-09-28T08:52:17.754Z"
   },
   {
    "duration": 237,
    "start_time": "2022-09-28T08:52:17.759Z"
   },
   {
    "duration": 2,
    "start_time": "2022-09-28T08:52:17.999Z"
   },
   {
    "duration": 1326,
    "start_time": "2022-09-28T08:52:18.003Z"
   },
   {
    "duration": 52,
    "start_time": "2022-09-28T08:52:19.330Z"
   },
   {
    "duration": 47,
    "start_time": "2022-09-28T08:52:19.384Z"
   },
   {
    "duration": 3,
    "start_time": "2022-09-28T08:52:19.433Z"
   },
   {
    "duration": 1835,
    "start_time": "2022-09-28T08:52:19.438Z"
   },
   {
    "duration": 3,
    "start_time": "2022-09-28T10:48:16.494Z"
   },
   {
    "duration": 205,
    "start_time": "2022-09-28T10:48:29.977Z"
   },
   {
    "duration": 1007,
    "start_time": "2022-09-28T10:48:48.969Z"
   },
   {
    "duration": 421,
    "start_time": "2022-09-28T10:49:02.560Z"
   },
   {
    "duration": 779,
    "start_time": "2022-09-28T14:22:30.737Z"
   },
   {
    "duration": 3,
    "start_time": "2022-09-28T14:22:32.995Z"
   },
   {
    "duration": 8339,
    "start_time": "2022-09-28T14:22:33.055Z"
   },
   {
    "duration": 54,
    "start_time": "2022-09-28T14:22:41.395Z"
   },
   {
    "duration": 17,
    "start_time": "2022-09-28T14:22:41.451Z"
   },
   {
    "duration": 241,
    "start_time": "2022-09-28T14:22:41.470Z"
   },
   {
    "duration": 145,
    "start_time": "2022-09-28T14:22:41.713Z"
   },
   {
    "duration": 207,
    "start_time": "2022-09-28T14:22:41.860Z"
   },
   {
    "duration": 2,
    "start_time": "2022-09-28T14:22:42.068Z"
   },
   {
    "duration": 205,
    "start_time": "2022-09-28T14:22:42.071Z"
   },
   {
    "duration": 2,
    "start_time": "2022-09-28T14:22:42.278Z"
   },
   {
    "duration": 1085,
    "start_time": "2022-09-28T14:22:42.282Z"
   },
   {
    "duration": 51,
    "start_time": "2022-09-28T14:22:43.369Z"
   },
   {
    "duration": 49,
    "start_time": "2022-09-28T14:22:43.422Z"
   },
   {
    "duration": 3,
    "start_time": "2022-09-28T14:22:43.473Z"
   },
   {
    "duration": 1040,
    "start_time": "2022-09-28T14:22:43.477Z"
   },
   {
    "duration": 437,
    "start_time": "2022-09-28T14:25:15.344Z"
   },
   {
    "duration": 275,
    "start_time": "2022-09-28T14:25:59.985Z"
   },
   {
    "duration": 415,
    "start_time": "2022-09-28T14:26:07.649Z"
   },
   {
    "duration": 600,
    "start_time": "2022-09-28T14:31:55.259Z"
   },
   {
    "duration": 606,
    "start_time": "2022-09-28T14:34:39.539Z"
   },
   {
    "duration": 599,
    "start_time": "2022-09-28T14:34:50.917Z"
   },
   {
    "duration": 490,
    "start_time": "2022-09-28T14:39:08.539Z"
   },
   {
    "duration": 8,
    "start_time": "2022-09-28T14:40:03.645Z"
   },
   {
    "duration": 15,
    "start_time": "2022-09-28T14:40:13.272Z"
   },
   {
    "duration": 455,
    "start_time": "2022-09-28T14:40:33.195Z"
   },
   {
    "duration": 564,
    "start_time": "2022-09-28T14:40:40.188Z"
   },
   {
    "duration": 2,
    "start_time": "2022-09-28T14:50:15.841Z"
   },
   {
    "duration": 118,
    "start_time": "2022-09-28T14:50:30.717Z"
   },
   {
    "duration": 1333,
    "start_time": "2022-09-28T14:50:41.816Z"
   },
   {
    "duration": 1271,
    "start_time": "2022-09-28T14:50:57.185Z"
   },
   {
    "duration": 200,
    "start_time": "2022-09-28T14:52:02.290Z"
   },
   {
    "duration": 197,
    "start_time": "2022-09-28T14:53:45.871Z"
   },
   {
    "duration": 225,
    "start_time": "2022-09-28T14:54:17.634Z"
   },
   {
    "duration": 229,
    "start_time": "2022-09-28T14:54:35.595Z"
   },
   {
    "duration": 201,
    "start_time": "2022-09-28T14:54:49.177Z"
   },
   {
    "duration": 195,
    "start_time": "2022-09-28T14:55:18.188Z"
   },
   {
    "duration": 193,
    "start_time": "2022-09-28T14:55:56.978Z"
   },
   {
    "duration": 196,
    "start_time": "2022-09-28T15:00:00.037Z"
   },
   {
    "duration": 226,
    "start_time": "2022-09-28T15:00:15.178Z"
   },
   {
    "duration": 211,
    "start_time": "2022-09-28T15:00:46.621Z"
   },
   {
    "duration": 233,
    "start_time": "2022-09-28T15:01:52.784Z"
   },
   {
    "duration": 197,
    "start_time": "2022-09-28T15:02:16.317Z"
   },
   {
    "duration": 198,
    "start_time": "2022-09-28T15:02:23.222Z"
   },
   {
    "duration": 193,
    "start_time": "2022-09-28T15:02:38.182Z"
   },
   {
    "duration": 191,
    "start_time": "2022-09-28T15:02:55.677Z"
   },
   {
    "duration": 227,
    "start_time": "2022-09-28T15:03:15.606Z"
   },
   {
    "duration": 211,
    "start_time": "2022-09-28T15:03:22.853Z"
   },
   {
    "duration": 3,
    "start_time": "2022-09-28T15:10:31.654Z"
   },
   {
    "duration": 169,
    "start_time": "2022-09-28T15:10:43.118Z"
   },
   {
    "duration": 213,
    "start_time": "2022-09-28T15:31:06.516Z"
   },
   {
    "duration": 216,
    "start_time": "2022-09-28T15:31:36.478Z"
   },
   {
    "duration": 221,
    "start_time": "2022-09-28T15:54:20.113Z"
   },
   {
    "duration": 239,
    "start_time": "2022-09-28T15:55:04.260Z"
   },
   {
    "duration": 208,
    "start_time": "2022-09-28T15:55:17.699Z"
   },
   {
    "duration": 198,
    "start_time": "2022-09-28T15:55:41.187Z"
   },
   {
    "duration": 1089,
    "start_time": "2022-09-28T17:23:22.457Z"
   },
   {
    "duration": 1120,
    "start_time": "2022-09-28T17:23:37.348Z"
   },
   {
    "duration": 4,
    "start_time": "2022-09-28T17:32:31.378Z"
   },
   {
    "duration": 1016,
    "start_time": "2022-09-28T17:36:05.130Z"
   },
   {
    "duration": 212,
    "start_time": "2022-09-28T17:40:19.821Z"
   },
   {
    "duration": 5,
    "start_time": "2022-09-28T17:41:35.779Z"
   },
   {
    "duration": 73,
    "start_time": "2022-09-28T17:49:59.075Z"
   },
   {
    "duration": 205,
    "start_time": "2022-09-28T17:53:11.684Z"
   },
   {
    "duration": 5,
    "start_time": "2022-09-28T17:53:53.676Z"
   },
   {
    "duration": 5,
    "start_time": "2022-09-28T17:53:58.264Z"
   },
   {
    "duration": 342,
    "start_time": "2022-09-28T17:54:07.373Z"
   },
   {
    "duration": 77,
    "start_time": "2022-09-28T17:54:37.492Z"
   },
   {
    "duration": 1132,
    "start_time": "2022-09-28T20:57:29.736Z"
   },
   {
    "duration": 4,
    "start_time": "2022-09-28T20:57:30.870Z"
   },
   {
    "duration": 7919,
    "start_time": "2022-09-28T20:57:30.875Z"
   },
   {
    "duration": 53,
    "start_time": "2022-09-28T20:57:38.796Z"
   },
   {
    "duration": 12,
    "start_time": "2022-09-28T20:57:38.851Z"
   },
   {
    "duration": 227,
    "start_time": "2022-09-28T20:57:38.864Z"
   },
   {
    "duration": 147,
    "start_time": "2022-09-28T20:57:39.093Z"
   },
   {
    "duration": 178,
    "start_time": "2022-09-28T20:57:39.242Z"
   },
   {
    "duration": 216,
    "start_time": "2022-09-28T20:57:39.422Z"
   },
   {
    "duration": 5,
    "start_time": "2022-09-28T20:57:39.640Z"
   },
   {
    "duration": 201,
    "start_time": "2022-09-28T20:57:39.647Z"
   },
   {
    "duration": 1105,
    "start_time": "2022-09-28T20:57:39.850Z"
   },
   {
    "duration": 44,
    "start_time": "2022-09-28T20:57:40.957Z"
   },
   {
    "duration": 40,
    "start_time": "2022-09-28T20:57:41.004Z"
   },
   {
    "duration": 1076,
    "start_time": "2022-09-28T20:57:41.045Z"
   },
   {
    "duration": 519,
    "start_time": "2022-09-28T20:57:42.123Z"
   },
   {
    "duration": 363,
    "start_time": "2022-09-28T20:57:42.643Z"
   },
   {
    "duration": 200,
    "start_time": "2022-09-28T20:57:43.007Z"
   },
   {
    "duration": 72,
    "start_time": "2022-09-28T20:57:43.208Z"
   },
   {
    "duration": 204,
    "start_time": "2022-09-28T20:57:43.281Z"
   },
   {
    "duration": 1143,
    "start_time": "2022-09-28T21:04:03.201Z"
   },
   {
    "duration": 3,
    "start_time": "2022-09-28T21:04:04.345Z"
   },
   {
    "duration": 8423,
    "start_time": "2022-09-28T21:04:04.350Z"
   },
   {
    "duration": 50,
    "start_time": "2022-09-28T21:04:12.775Z"
   },
   {
    "duration": 12,
    "start_time": "2022-09-28T21:04:12.827Z"
   },
   {
    "duration": 219,
    "start_time": "2022-09-28T21:04:12.840Z"
   },
   {
    "duration": 143,
    "start_time": "2022-09-28T21:04:13.060Z"
   },
   {
    "duration": 172,
    "start_time": "2022-09-28T21:04:13.205Z"
   },
   {
    "duration": 216,
    "start_time": "2022-09-28T21:04:13.379Z"
   },
   {
    "duration": 8,
    "start_time": "2022-09-28T21:04:13.598Z"
   },
   {
    "duration": 208,
    "start_time": "2022-09-28T21:04:13.608Z"
   },
   {
    "duration": 1091,
    "start_time": "2022-09-28T21:04:13.818Z"
   },
   {
    "duration": 44,
    "start_time": "2022-09-28T21:04:14.910Z"
   },
   {
    "duration": 41,
    "start_time": "2022-09-28T21:04:14.956Z"
   },
   {
    "duration": 1060,
    "start_time": "2022-09-28T21:04:14.998Z"
   },
   {
    "duration": 519,
    "start_time": "2022-09-28T21:04:16.060Z"
   },
   {
    "duration": 392,
    "start_time": "2022-09-28T21:04:16.581Z"
   },
   {
    "duration": 199,
    "start_time": "2022-09-28T21:04:16.974Z"
   },
   {
    "duration": 75,
    "start_time": "2022-09-28T21:04:17.175Z"
   },
   {
    "duration": 200,
    "start_time": "2022-09-28T21:04:17.251Z"
   },
   {
    "duration": 1143,
    "start_time": "2022-09-28T21:04:32.297Z"
   },
   {
    "duration": 4,
    "start_time": "2022-09-28T21:04:33.441Z"
   },
   {
    "duration": 8123,
    "start_time": "2022-09-28T21:04:33.446Z"
   },
   {
    "duration": 38,
    "start_time": "2022-09-28T21:04:41.571Z"
   },
   {
    "duration": 11,
    "start_time": "2022-09-28T21:04:41.611Z"
   },
   {
    "duration": 216,
    "start_time": "2022-09-28T21:04:41.624Z"
   },
   {
    "duration": 140,
    "start_time": "2022-09-28T21:04:41.841Z"
   },
   {
    "duration": 177,
    "start_time": "2022-09-28T21:04:41.983Z"
   },
   {
    "duration": 222,
    "start_time": "2022-09-28T21:04:42.161Z"
   },
   {
    "duration": 6,
    "start_time": "2022-09-28T21:04:42.385Z"
   },
   {
    "duration": 208,
    "start_time": "2022-09-28T21:04:42.392Z"
   },
   {
    "duration": 1121,
    "start_time": "2022-09-28T21:04:42.602Z"
   },
   {
    "duration": 47,
    "start_time": "2022-09-28T21:04:43.725Z"
   },
   {
    "duration": 41,
    "start_time": "2022-09-28T21:04:43.774Z"
   },
   {
    "duration": 1036,
    "start_time": "2022-09-28T21:04:43.817Z"
   },
   {
    "duration": 508,
    "start_time": "2022-09-28T21:04:44.854Z"
   },
   {
    "duration": 393,
    "start_time": "2022-09-28T21:04:45.364Z"
   },
   {
    "duration": 200,
    "start_time": "2022-09-28T21:04:45.758Z"
   },
   {
    "duration": 72,
    "start_time": "2022-09-28T21:04:45.960Z"
   },
   {
    "duration": 200,
    "start_time": "2022-09-28T21:04:46.033Z"
   },
   {
    "duration": 1136,
    "start_time": "2022-09-28T21:31:37.408Z"
   },
   {
    "duration": 3,
    "start_time": "2022-09-28T21:31:38.546Z"
   },
   {
    "duration": 8051,
    "start_time": "2022-09-28T21:31:38.550Z"
   },
   {
    "duration": 67,
    "start_time": "2022-09-28T21:31:46.603Z"
   },
   {
    "duration": 12,
    "start_time": "2022-09-28T21:31:46.672Z"
   },
   {
    "duration": 237,
    "start_time": "2022-09-28T21:31:46.685Z"
   },
   {
    "duration": 145,
    "start_time": "2022-09-28T21:31:46.923Z"
   },
   {
    "duration": 196,
    "start_time": "2022-09-28T21:31:47.070Z"
   },
   {
    "duration": 241,
    "start_time": "2022-09-28T21:31:47.268Z"
   },
   {
    "duration": 5,
    "start_time": "2022-09-28T21:31:47.511Z"
   },
   {
    "duration": 203,
    "start_time": "2022-09-28T21:31:47.518Z"
   },
   {
    "duration": 1126,
    "start_time": "2022-09-28T21:31:47.723Z"
   },
   {
    "duration": 45,
    "start_time": "2022-09-28T21:31:48.851Z"
   },
   {
    "duration": 41,
    "start_time": "2022-09-28T21:31:48.898Z"
   },
   {
    "duration": 1026,
    "start_time": "2022-09-28T21:31:48.940Z"
   },
   {
    "duration": 511,
    "start_time": "2022-09-28T21:31:49.967Z"
   },
   {
    "duration": 395,
    "start_time": "2022-09-28T21:31:50.480Z"
   },
   {
    "duration": 198,
    "start_time": "2022-09-28T21:31:50.876Z"
   },
   {
    "duration": 74,
    "start_time": "2022-09-28T21:31:51.075Z"
   },
   {
    "duration": 198,
    "start_time": "2022-09-28T21:31:51.150Z"
   },
   {
    "duration": 1381,
    "start_time": "2022-09-29T03:58:25.989Z"
   },
   {
    "duration": 5,
    "start_time": "2022-09-29T03:58:27.372Z"
   },
   {
    "duration": 5118,
    "start_time": "2022-09-29T03:58:29.986Z"
   },
   {
    "duration": 213,
    "start_time": "2022-09-29T03:58:35.106Z"
   },
   {
    "duration": 13,
    "start_time": "2022-09-29T03:58:35.321Z"
   },
   {
    "duration": 253,
    "start_time": "2022-09-29T03:58:35.335Z"
   },
   {
    "duration": 180,
    "start_time": "2022-09-29T03:58:36.978Z"
   },
   {
    "duration": 203,
    "start_time": "2022-09-29T03:58:38.745Z"
   },
   {
    "duration": 250,
    "start_time": "2022-09-29T03:58:40.518Z"
   },
   {
    "duration": 9,
    "start_time": "2022-09-29T03:58:40.771Z"
   },
   {
    "duration": 226,
    "start_time": "2022-09-29T03:58:42.224Z"
   },
   {
    "duration": 1143,
    "start_time": "2022-09-29T03:59:33.805Z"
   },
   {
    "duration": 200,
    "start_time": "2022-09-29T04:02:36.929Z"
   },
   {
    "duration": 106,
    "start_time": "2022-09-29T04:03:53.127Z"
   },
   {
    "duration": 2,
    "start_time": "2022-09-29T10:12:22.789Z"
   },
   {
    "duration": 4,
    "start_time": "2022-09-29T10:12:23.148Z"
   },
   {
    "duration": 4,
    "start_time": "2022-09-29T10:12:23.935Z"
   },
   {
    "duration": 201,
    "start_time": "2022-09-29T10:12:24.324Z"
   },
   {
    "duration": 11,
    "start_time": "2022-09-29T10:12:24.995Z"
   },
   {
    "duration": 266,
    "start_time": "2022-09-29T10:12:30.135Z"
   },
   {
    "duration": 160,
    "start_time": "2022-09-29T10:12:34.020Z"
   },
   {
    "duration": 168,
    "start_time": "2022-09-29T10:12:53.091Z"
   },
   {
    "duration": 1530,
    "start_time": "2022-09-29T18:36:02.301Z"
   },
   {
    "duration": 12,
    "start_time": "2022-09-29T18:36:03.832Z"
   },
   {
    "duration": 12007,
    "start_time": "2022-09-29T18:36:03.846Z"
   },
   {
    "duration": 429,
    "start_time": "2022-09-29T18:36:15.855Z"
   },
   {
    "duration": 17,
    "start_time": "2022-09-29T18:36:16.286Z"
   },
   {
    "duration": 340,
    "start_time": "2022-09-29T18:36:16.304Z"
   },
   {
    "duration": 205,
    "start_time": "2022-09-29T18:36:16.646Z"
   },
   {
    "duration": 215,
    "start_time": "2022-09-29T18:36:16.852Z"
   },
   {
    "duration": 2468,
    "start_time": "2022-09-29T18:36:17.070Z"
   },
   {
    "duration": 0,
    "start_time": "2022-09-29T18:36:19.540Z"
   },
   {
    "duration": 0,
    "start_time": "2022-09-29T18:36:19.541Z"
   },
   {
    "duration": 0,
    "start_time": "2022-09-29T18:36:19.541Z"
   },
   {
    "duration": 0,
    "start_time": "2022-09-29T18:36:19.542Z"
   },
   {
    "duration": 0,
    "start_time": "2022-09-29T18:36:19.543Z"
   },
   {
    "duration": 0,
    "start_time": "2022-09-29T18:36:19.544Z"
   },
   {
    "duration": 0,
    "start_time": "2022-09-29T18:36:19.545Z"
   },
   {
    "duration": 0,
    "start_time": "2022-09-29T18:36:19.546Z"
   },
   {
    "duration": 0,
    "start_time": "2022-09-29T18:36:19.548Z"
   },
   {
    "duration": 0,
    "start_time": "2022-09-29T18:36:19.549Z"
   },
   {
    "duration": 0,
    "start_time": "2022-09-29T18:36:19.550Z"
   },
   {
    "duration": 1365,
    "start_time": "2022-09-29T18:36:41.670Z"
   },
   {
    "duration": 9,
    "start_time": "2022-09-29T18:36:43.037Z"
   },
   {
    "duration": 14056,
    "start_time": "2022-09-29T18:36:43.048Z"
   },
   {
    "duration": 281,
    "start_time": "2022-09-29T18:36:57.106Z"
   },
   {
    "duration": 14,
    "start_time": "2022-09-29T18:36:57.389Z"
   },
   {
    "duration": 301,
    "start_time": "2022-09-29T18:36:57.405Z"
   },
   {
    "duration": 179,
    "start_time": "2022-09-29T18:36:57.707Z"
   },
   {
    "duration": 179,
    "start_time": "2022-09-29T18:36:57.888Z"
   },
   {
    "duration": 2220,
    "start_time": "2022-09-29T18:36:58.069Z"
   },
   {
    "duration": 0,
    "start_time": "2022-09-29T18:37:00.291Z"
   },
   {
    "duration": 0,
    "start_time": "2022-09-29T18:37:00.292Z"
   },
   {
    "duration": 0,
    "start_time": "2022-09-29T18:37:00.293Z"
   },
   {
    "duration": 0,
    "start_time": "2022-09-29T18:37:00.294Z"
   },
   {
    "duration": 0,
    "start_time": "2022-09-29T18:37:00.294Z"
   },
   {
    "duration": 0,
    "start_time": "2022-09-29T18:37:00.295Z"
   },
   {
    "duration": 0,
    "start_time": "2022-09-29T18:37:00.296Z"
   },
   {
    "duration": 0,
    "start_time": "2022-09-29T18:37:00.297Z"
   },
   {
    "duration": 0,
    "start_time": "2022-09-29T18:37:00.298Z"
   },
   {
    "duration": 0,
    "start_time": "2022-09-29T18:37:00.322Z"
   },
   {
    "duration": 0,
    "start_time": "2022-09-29T18:37:00.322Z"
   },
   {
    "duration": 200,
    "start_time": "2022-09-29T18:49:46.150Z"
   },
   {
    "duration": 242,
    "start_time": "2022-09-29T18:49:47.949Z"
   },
   {
    "duration": 1302,
    "start_time": "2022-09-29T18:49:58.097Z"
   },
   {
    "duration": 3,
    "start_time": "2022-09-29T18:49:59.401Z"
   },
   {
    "duration": 13920,
    "start_time": "2022-09-29T18:49:59.405Z"
   },
   {
    "duration": 244,
    "start_time": "2022-09-29T18:50:13.326Z"
   },
   {
    "duration": 13,
    "start_time": "2022-09-29T18:50:13.572Z"
   },
   {
    "duration": 285,
    "start_time": "2022-09-29T18:50:13.587Z"
   },
   {
    "duration": 184,
    "start_time": "2022-09-29T18:50:13.874Z"
   },
   {
    "duration": 194,
    "start_time": "2022-09-29T18:50:14.060Z"
   },
   {
    "duration": 288,
    "start_time": "2022-09-29T18:50:14.256Z"
   },
   {
    "duration": 8,
    "start_time": "2022-09-29T18:50:14.546Z"
   },
   {
    "duration": 287,
    "start_time": "2022-09-29T18:50:14.556Z"
   },
   {
    "duration": 1332,
    "start_time": "2022-09-29T18:50:14.845Z"
   },
   {
    "duration": 81,
    "start_time": "2022-09-29T18:50:16.179Z"
   },
   {
    "duration": 88,
    "start_time": "2022-09-29T18:50:16.262Z"
   },
   {
    "duration": 1192,
    "start_time": "2022-09-29T18:50:16.352Z"
   },
   {
    "duration": 610,
    "start_time": "2022-09-29T18:50:17.546Z"
   },
   {
    "duration": 406,
    "start_time": "2022-09-29T18:50:18.158Z"
   },
   {
    "duration": 254,
    "start_time": "2022-09-29T18:50:18.565Z"
   },
   {
    "duration": 83,
    "start_time": "2022-09-29T18:50:18.820Z"
   },
   {
    "duration": 262,
    "start_time": "2022-09-29T18:50:18.905Z"
   },
   {
    "duration": 13,
    "start_time": "2022-09-29T19:11:11.918Z"
   },
   {
    "duration": 3,
    "start_time": "2022-09-29T19:24:32.364Z"
   },
   {
    "duration": 5,
    "start_time": "2022-09-29T19:28:25.474Z"
   },
   {
    "duration": 5,
    "start_time": "2022-09-29T19:28:33.761Z"
   }
  ],
  "colab": {
   "name": "AdvansedSQLProjectTemplate.ipynb",
   "provenance": []
  },
  "kernelspec": {
   "display_name": "Python 3 (ipykernel)",
   "language": "python",
   "name": "python3"
  },
  "language_info": {
   "codemirror_mode": {
    "name": "ipython",
    "version": 3
   },
   "file_extension": ".py",
   "mimetype": "text/x-python",
   "name": "python",
   "nbconvert_exporter": "python",
   "pygments_lexer": "ipython3",
   "version": "3.9.12"
  },
  "toc": {
   "base_numbering": 1,
   "nav_menu": {},
   "number_sections": true,
   "sideBar": true,
   "skip_h1_title": true,
   "title_cell": "Table of Contents",
   "title_sidebar": "Contents",
   "toc_cell": false,
   "toc_position": {},
   "toc_section_display": true,
   "toc_window_display": false
  }
 },
 "nbformat": 4,
 "nbformat_minor": 4
}
